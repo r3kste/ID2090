{
  "cells": [
    {
      "cell_type": "markdown",
      "metadata": {
        "id": "ibH6RqQuZuA1"
      },
      "source": [
        "# Working with a csv from cloud\n",
        "\n",
        "In this notebook, we use the pandas module to import a csv file from the cloud into ndarray."
      ]
    },
    {
      "cell_type": "code",
      "execution_count": 1,
      "metadata": {
        "id": "lcVXiMpiZuA7"
      },
      "outputs": [],
      "source": [
        "import pandas as pd\n",
        "import numpy as np"
      ]
    },
    {
      "cell_type": "markdown",
      "metadata": {
        "id": "Zr_TMJpSZuA-"
      },
      "source": [
        "Confirm if the URL points to a file that can be read using an internet browser. Modify the parameter \"header\" as per the way the first line of the csv file is written."
      ]
    },
    {
      "cell_type": "code",
      "execution_count": 2,
      "metadata": {
        "id": "28oNsTxaZuA_"
      },
      "outputs": [],
      "source": [
        "url = 'https://raw.githubusercontent.com/r3kste/ID2090/main/RollList23.csv'\n",
        "df = pd.read_csv(url, header=None)"
      ]
    },
    {
      "cell_type": "code",
      "execution_count": 3,
      "metadata": {
        "id": "CvenVG1UZuBA",
        "outputId": "640fcd98-8c2e-4c5b-e3df-32774b2bee4e",
        "colab": {
          "base_uri": "https://localhost:8080/",
          "height": 204
        }
      },
      "outputs": [
        {
          "output_type": "execute_result",
          "data": {
            "text/plain": [
              "pandas.core.frame.DataFrame"
            ],
            "text/html": [
              "<div style=\"max-width:800px; border: 1px solid var(--colab-border-color);\"><style>\n",
              "      pre.function-repr-contents {\n",
              "        overflow-x: auto;\n",
              "        padding: 8px 12px;\n",
              "        max-height: 500px;\n",
              "      }\n",
              "\n",
              "      pre.function-repr-contents.function-repr-contents-collapsed {\n",
              "        cursor: pointer;\n",
              "        max-height: 100px;\n",
              "      }\n",
              "    </style>\n",
              "    <pre style=\"white-space: initial; background:\n",
              "         var(--colab-secondary-surface-color); padding: 8px 12px;\n",
              "         border-bottom: 1px solid var(--colab-border-color);\"><b>pandas.core.frame.DataFrame</b><br/>def __init__(data=None, index: Axes | None=None, columns: Axes | None=None, dtype: Dtype | None=None, copy: bool | None=None) -&gt; None</pre><pre class=\"function-repr-contents function-repr-contents-collapsed\" style=\"\"><a class=\"filepath\" style=\"display:none\" href=\"#\">/usr/local/lib/python3.10/dist-packages/pandas/core/frame.py</a>Two-dimensional, size-mutable, potentially heterogeneous tabular data.\n",
              "\n",
              "Data structure also contains labeled axes (rows and columns).\n",
              "Arithmetic operations align on both row and column labels. Can be\n",
              "thought of as a dict-like container for Series objects. The primary\n",
              "pandas data structure.\n",
              "\n",
              "Parameters\n",
              "----------\n",
              "data : ndarray (structured or homogeneous), Iterable, dict, or DataFrame\n",
              "    Dict can contain Series, arrays, constants, dataclass or list-like objects. If\n",
              "    data is a dict, column order follows insertion-order. If a dict contains Series\n",
              "    which have an index defined, it is aligned by its index.\n",
              "\n",
              "    .. versionchanged:: 0.25.0\n",
              "       If data is a list of dicts, column order follows insertion-order.\n",
              "\n",
              "index : Index or array-like\n",
              "    Index to use for resulting frame. Will default to RangeIndex if\n",
              "    no indexing information part of input data and no index provided.\n",
              "columns : Index or array-like\n",
              "    Column labels to use for resulting frame when data does not have them,\n",
              "    defaulting to RangeIndex(0, 1, 2, ..., n). If data contains column labels,\n",
              "    will perform column selection instead.\n",
              "dtype : dtype, default None\n",
              "    Data type to force. Only a single dtype is allowed. If None, infer.\n",
              "copy : bool or None, default None\n",
              "    Copy data from inputs.\n",
              "    For dict data, the default of None behaves like ``copy=True``.  For DataFrame\n",
              "    or 2d ndarray input, the default of None behaves like ``copy=False``.\n",
              "    If data is a dict containing one or more Series (possibly of different dtypes),\n",
              "    ``copy=False`` will ensure that these inputs are not copied.\n",
              "\n",
              "    .. versionchanged:: 1.3.0\n",
              "\n",
              "See Also\n",
              "--------\n",
              "DataFrame.from_records : Constructor from tuples, also record arrays.\n",
              "DataFrame.from_dict : From dicts of Series, arrays, or dicts.\n",
              "read_csv : Read a comma-separated values (csv) file into DataFrame.\n",
              "read_table : Read general delimited file into DataFrame.\n",
              "read_clipboard : Read text from clipboard into DataFrame.\n",
              "\n",
              "Notes\n",
              "-----\n",
              "Please reference the :ref:`User Guide &lt;basics.dataframe&gt;` for more information.\n",
              "\n",
              "Examples\n",
              "--------\n",
              "Constructing DataFrame from a dictionary.\n",
              "\n",
              "&gt;&gt;&gt; d = {&#x27;col1&#x27;: [1, 2], &#x27;col2&#x27;: [3, 4]}\n",
              "&gt;&gt;&gt; df = pd.DataFrame(data=d)\n",
              "&gt;&gt;&gt; df\n",
              "   col1  col2\n",
              "0     1     3\n",
              "1     2     4\n",
              "\n",
              "Notice that the inferred dtype is int64.\n",
              "\n",
              "&gt;&gt;&gt; df.dtypes\n",
              "col1    int64\n",
              "col2    int64\n",
              "dtype: object\n",
              "\n",
              "To enforce a single dtype:\n",
              "\n",
              "&gt;&gt;&gt; df = pd.DataFrame(data=d, dtype=np.int8)\n",
              "&gt;&gt;&gt; df.dtypes\n",
              "col1    int8\n",
              "col2    int8\n",
              "dtype: object\n",
              "\n",
              "Constructing DataFrame from a dictionary including Series:\n",
              "\n",
              "&gt;&gt;&gt; d = {&#x27;col1&#x27;: [0, 1, 2, 3], &#x27;col2&#x27;: pd.Series([2, 3], index=[2, 3])}\n",
              "&gt;&gt;&gt; pd.DataFrame(data=d, index=[0, 1, 2, 3])\n",
              "   col1  col2\n",
              "0     0   NaN\n",
              "1     1   NaN\n",
              "2     2   2.0\n",
              "3     3   3.0\n",
              "\n",
              "Constructing DataFrame from numpy ndarray:\n",
              "\n",
              "&gt;&gt;&gt; df2 = pd.DataFrame(np.array([[1, 2, 3], [4, 5, 6], [7, 8, 9]]),\n",
              "...                    columns=[&#x27;a&#x27;, &#x27;b&#x27;, &#x27;c&#x27;])\n",
              "&gt;&gt;&gt; df2\n",
              "   a  b  c\n",
              "0  1  2  3\n",
              "1  4  5  6\n",
              "2  7  8  9\n",
              "\n",
              "Constructing DataFrame from a numpy ndarray that has labeled columns:\n",
              "\n",
              "&gt;&gt;&gt; data = np.array([(1, 2, 3), (4, 5, 6), (7, 8, 9)],\n",
              "...                 dtype=[(&quot;a&quot;, &quot;i4&quot;), (&quot;b&quot;, &quot;i4&quot;), (&quot;c&quot;, &quot;i4&quot;)])\n",
              "&gt;&gt;&gt; df3 = pd.DataFrame(data, columns=[&#x27;c&#x27;, &#x27;a&#x27;])\n",
              "...\n",
              "&gt;&gt;&gt; df3\n",
              "   c  a\n",
              "0  3  1\n",
              "1  6  4\n",
              "2  9  7\n",
              "\n",
              "Constructing DataFrame from dataclass:\n",
              "\n",
              "&gt;&gt;&gt; from dataclasses import make_dataclass\n",
              "&gt;&gt;&gt; Point = make_dataclass(&quot;Point&quot;, [(&quot;x&quot;, int), (&quot;y&quot;, int)])\n",
              "&gt;&gt;&gt; pd.DataFrame([Point(0, 0), Point(0, 3), Point(2, 3)])\n",
              "   x  y\n",
              "0  0  0\n",
              "1  0  3\n",
              "2  2  3</pre>\n",
              "      <script>\n",
              "      if (google.colab.kernel.accessAllowed && google.colab.files && google.colab.files.view) {\n",
              "        for (const element of document.querySelectorAll('.filepath')) {\n",
              "          element.style.display = 'block'\n",
              "          element.onclick = (event) => {\n",
              "            event.preventDefault();\n",
              "            event.stopPropagation();\n",
              "            google.colab.files.view(element.textContent, 475);\n",
              "          };\n",
              "        }\n",
              "      }\n",
              "      for (const element of document.querySelectorAll('.function-repr-contents')) {\n",
              "        element.onclick = (event) => {\n",
              "          event.preventDefault();\n",
              "          event.stopPropagation();\n",
              "          element.classList.toggle('function-repr-contents-collapsed');\n",
              "        };\n",
              "      }\n",
              "      </script>\n",
              "      </div>"
            ]
          },
          "metadata": {},
          "execution_count": 3
        }
      ],
      "source": [
        "type(df)"
      ]
    },
    {
      "cell_type": "markdown",
      "metadata": {
        "id": "FkV3lbcPZuBD"
      },
      "source": [
        "Check the first few rows to see what the data looks like."
      ]
    },
    {
      "cell_type": "code",
      "execution_count": 4,
      "metadata": {
        "id": "B6K0B1YCZuBD",
        "outputId": "c60aef28-3e2f-465b-f6cc-eca3f8f6c4a6",
        "colab": {
          "base_uri": "https://localhost:8080/"
        }
      },
      "outputs": [
        {
          "output_type": "stream",
          "name": "stdout",
          "text": [
            "         0                     1          2       3   \\\n",
            "0    RollNo            First Name  Last Name  Gender   \n",
            "1  AE23B005       BHAVESH AGARWAL        NaN       M   \n",
            "2  AE23B010              GUHAAN K        NaN       M   \n",
            "3  AE23B011          HEMANT MEENA        NaN       M   \n",
            "4  AE23B013        KISHOREKUMAR S        NaN       M   \n",
            "5  AE23B020  MANISH SARAVANAKUMAR        NaN       M   \n",
            "6  AE23B029          SARAN RAAM S        NaN       M   \n",
            "7  AE23B034            DEV MANDAL        NaN       M   \n",
            "8  AE23B036        CHINMAY BORKER        NaN       M   \n",
            "9  AE23B037    HARSH VARDHAN JENA        NaN       M   \n",
            "\n",
            "                          4             5         6     7         8   \\\n",
            "0              Student Email  Program Name  Semester  Slot  CourseNo   \n",
            "1  ae23b005@smail.iitm.ac.in        B.Tech        02     F    ID2090   \n",
            "2  ae23b010@smail.iitm.ac.in        B.Tech        02     F    ID2090   \n",
            "3  ae23b011@smail.iitm.ac.in        B.Tech        02     F    ID2090   \n",
            "4  ae23b013@smail.iitm.ac.in        B.Tech        02     F    ID2090   \n",
            "5  ae23b020@smail.iitm.ac.in        B.Tech        02     F    ID2090   \n",
            "6  ae23b029@smail.iitm.ac.in        B.Tech        02     F    ID2090   \n",
            "7  ae23b034@smail.iitm.ac.in        B.Tech        02     F    ID2090   \n",
            "8  ae23b036@smail.iitm.ac.in        B.Tech        02     F    ID2090   \n",
            "9  ae23b037@smail.iitm.ac.in        B.Tech        02     F    ID2090   \n",
            "\n",
            "            9               10  \n",
            "0  Status Type  Student Status  \n",
            "1   Registered         Current  \n",
            "2   Registered         Current  \n",
            "3   Registered         Current  \n",
            "4   Registered         Current  \n",
            "5   Registered         Current  \n",
            "6   Registered         Current  \n",
            "7   Registered         Current  \n",
            "8   Registered         Current  \n",
            "9   Registered         Current  \n"
          ]
        }
      ],
      "source": [
        "print(df.head(10))"
      ]
    },
    {
      "cell_type": "markdown",
      "metadata": {
        "id": "GA2tHno3ZuBE"
      },
      "source": [
        "You can copy the data from dataframe to ndarray."
      ]
    },
    {
      "cell_type": "code",
      "execution_count": 5,
      "metadata": {
        "id": "wJobqvW2ZuBF"
      },
      "outputs": [],
      "source": [
        "names = df.to_numpy()"
      ]
    },
    {
      "cell_type": "code",
      "execution_count": 6,
      "metadata": {
        "id": "454RfY_QZuBF",
        "outputId": "63848aa3-b9f7-41f0-a8d8-61efd5417549",
        "colab": {
          "base_uri": "https://localhost:8080/"
        }
      },
      "outputs": [
        {
          "output_type": "execute_result",
          "data": {
            "text/plain": [
              "numpy.ndarray"
            ]
          },
          "metadata": {},
          "execution_count": 6
        }
      ],
      "source": [
        "type(names)"
      ]
    },
    {
      "cell_type": "code",
      "execution_count": 7,
      "metadata": {
        "id": "UEA7AIukZuBG",
        "outputId": "e364c3f7-b260-4c29-e473-07a551d698a3",
        "colab": {
          "base_uri": "https://localhost:8080/"
        }
      },
      "outputs": [
        {
          "output_type": "execute_result",
          "data": {
            "text/plain": [
              "(125, 11)"
            ]
          },
          "metadata": {},
          "execution_count": 7
        }
      ],
      "source": [
        "names.shape"
      ]
    },
    {
      "cell_type": "code",
      "execution_count": 8,
      "metadata": {
        "id": "iP2jdPdKZuBH",
        "outputId": "b0e4657b-c635-4647-e740-66f241cd2c58",
        "colab": {
          "base_uri": "https://localhost:8080/"
        }
      },
      "outputs": [
        {
          "output_type": "execute_result",
          "data": {
            "text/plain": [
              "array(['First Name', 'BHAVESH AGARWAL', 'GUHAAN K', 'HEMANT MEENA',\n",
              "       'KISHOREKUMAR S'], dtype=object)"
            ]
          },
          "metadata": {},
          "execution_count": 8
        }
      ],
      "source": [
        "names[0:5,1]"
      ]
    },
    {
      "cell_type": "markdown",
      "metadata": {
        "id": "q1aS58RgZuBI"
      },
      "source": [
        "You can insert a column into the dataframe. Before that, make sure you have the column of same length to avoid mistmatch. Here, we use random numbers scaled to be between 0 and 40 as the column named \"es\"."
      ]
    },
    {
      "cell_type": "code",
      "execution_count": 9,
      "metadata": {
        "id": "ODVc_Y3EZuBI",
        "outputId": "c7dc252b-6e5c-40b7-b40e-bd63d5806fdc",
        "colab": {
          "base_uri": "https://localhost:8080/"
        }
      },
      "outputs": [
        {
          "output_type": "execute_result",
          "data": {
            "text/plain": [
              "(125,)"
            ]
          },
          "metadata": {},
          "execution_count": 9
        }
      ],
      "source": [
        "es = 40*np.random.rand(len(names))\n",
        "es.shape"
      ]
    },
    {
      "cell_type": "code",
      "execution_count": 10,
      "metadata": {
        "id": "ree5V0x4ZuBJ"
      },
      "outputs": [],
      "source": [
        "df.insert(2, \"es\", es, True)"
      ]
    },
    {
      "cell_type": "code",
      "execution_count": 11,
      "metadata": {
        "id": "EAw6TXbqZuBJ",
        "outputId": "21accba8-cb46-40f7-9ded-8b99b5ed962c",
        "colab": {
          "base_uri": "https://localhost:8080/"
        }
      },
      "outputs": [
        {
          "output_type": "stream",
          "name": "stdout",
          "text": [
            "            0                           1         es          2       3  \\\n",
            "0      RollNo                  First Name   6.008064  Last Name  Gender   \n",
            "1    AE23B005             BHAVESH AGARWAL  35.244377        NaN       M   \n",
            "2    AE23B010                    GUHAAN K  33.056267        NaN       M   \n",
            "3    AE23B011                HEMANT MEENA  28.202288        NaN       M   \n",
            "4    AE23B013              KISHOREKUMAR S  23.291066        NaN       M   \n",
            "..        ...                         ...        ...        ...     ...   \n",
            "120  MM23B050        MENON KARTHIK RAKESH   7.141023        NaN       M   \n",
            "121  MM23B054  PAITHANKAR ATHARVA PRAKASH  28.391332        NaN       M   \n",
            "122  MM23B058                    RAGHAV A  16.285036        NaN       M   \n",
            "123  MM23B060         SAACHI PRAVIN AHIRE  22.139227        NaN       F   \n",
            "124  MM23B062                  SASTIKAA S   4.365221        NaN       F   \n",
            "\n",
            "                             4             5         6     7         8  \\\n",
            "0                Student Email  Program Name  Semester  Slot  CourseNo   \n",
            "1    ae23b005@smail.iitm.ac.in        B.Tech        02     F    ID2090   \n",
            "2    ae23b010@smail.iitm.ac.in        B.Tech        02     F    ID2090   \n",
            "3    ae23b011@smail.iitm.ac.in        B.Tech        02     F    ID2090   \n",
            "4    ae23b013@smail.iitm.ac.in        B.Tech        02     F    ID2090   \n",
            "..                         ...           ...       ...   ...       ...   \n",
            "120  mm23b050@smail.iitm.ac.in        B.Tech        02     F    ID2090   \n",
            "121  mm23b054@smail.iitm.ac.in        B.Tech        02     F    ID2090   \n",
            "122  mm23b058@smail.iitm.ac.in        B.Tech        02     F    ID2090   \n",
            "123  mm23b060@smail.iitm.ac.in        B.Tech        02     F    ID2090   \n",
            "124  mm23b062@smail.iitm.ac.in        B.Tech        02     F    ID2090   \n",
            "\n",
            "               9              10  \n",
            "0    Status Type  Student Status  \n",
            "1     Registered         Current  \n",
            "2     Registered         Current  \n",
            "3     Registered         Current  \n",
            "4     Registered         Current  \n",
            "..           ...             ...  \n",
            "120   Registered         Current  \n",
            "121   Registered         Current  \n",
            "122   Registered         Current  \n",
            "123   Registered         Current  \n",
            "124   Registered         Current  \n",
            "\n",
            "[125 rows x 12 columns]\n"
          ]
        }
      ],
      "source": [
        "print(df)"
      ]
    },
    {
      "cell_type": "markdown",
      "metadata": {
        "id": "wjYFrnjGZuBK"
      },
      "source": [
        "You can save the dataframe to a csv file in the present working directory of the notebook. You can use a relative path but make sure you have write permissions to that folder.\n",
        "\n",
        "Uncomment (i.e., remove the # character at the beginning of) the following line and try it in your notebook on your computer. Commenting this cell so that it will render on github."
      ]
    },
    {
      "cell_type": "code",
      "execution_count": 12,
      "metadata": {
        "id": "zweOXBNTZuBL"
      },
      "outputs": [],
      "source": [
        "#df.to_csv(\"marks.csv\", index=False)"
      ]
    },
    {
      "cell_type": "markdown",
      "metadata": {
        "id": "cwb1whExZuBL"
      },
      "source": [
        "Use the ! to prefix any command you want to pass to the shell for execution. Uncomment the following line and try it in your notebook on your computer. Commenting this cell so that it will render on github."
      ]
    },
    {
      "cell_type": "code",
      "execution_count": 13,
      "metadata": {
        "id": "nSfe_TScZuBM"
      },
      "outputs": [],
      "source": [
        "#!ls -l marks.csv"
      ]
    },
    {
      "cell_type": "code",
      "execution_count": 13,
      "metadata": {
        "id": "ppaq-0J5ZuBM"
      },
      "outputs": [],
      "source": []
    }
  ],
  "metadata": {
    "kernelspec": {
      "display_name": "Python 3",
      "language": "python",
      "name": "python3"
    },
    "language_info": {
      "codemirror_mode": {
        "name": "ipython",
        "version": 3
      },
      "file_extension": ".py",
      "mimetype": "text/x-python",
      "name": "python",
      "nbconvert_exporter": "python",
      "pygments_lexer": "ipython3",
      "version": "3.8.5"
    },
    "colab": {
      "provenance": []
    }
  },
  "nbformat": 4,
  "nbformat_minor": 0
}