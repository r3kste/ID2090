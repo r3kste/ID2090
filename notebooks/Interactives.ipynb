{
 "cells": [
  {
   "cell_type": "markdown",
   "metadata": {},
   "source": [
    "# Interactives"
   ]
  },
  {
   "cell_type": "code",
   "execution_count": 1,
   "metadata": {},
   "outputs": [
    {
     "data": {
      "application/vnd.jupyter.widget-view+json": {
       "model_id": "693e399d91384120a746c5259d71e8ad",
       "version_major": 2,
       "version_minor": 0
      },
      "text/plain": [
       "Interactive function <function myfunc at 0x7f0900171f70> with 1 widget\n",
       "  n: IntSlider(value=50, description='n…"
      ]
     },
     "metadata": {},
     "output_type": "display_data"
    }
   ],
   "source": [
    "from sage.repl.ipython_kernel.interact import sage_interactive\n",
    "\n",
    "def myfunc(n):\n",
    "    print(\"You selected: \", n)\n",
    "    p = plot(sin((n+pi)*x/20),(x,0,6*pi))\n",
    "    p.show()\n",
    "sage_interactive(myfunc, n=(0,100))"
   ]
  },
  {
   "cell_type": "code",
   "execution_count": 2,
   "metadata": {},
   "outputs": [
    {
     "data": {
      "application/vnd.jupyter.widget-view+json": {
       "model_id": "09ebe40362ed4d13be21dbf86e9b5309",
       "version_major": 2,
       "version_minor": 0
      },
      "text/plain": [
       "Manual interactive function <function myplot at 0x7f08f4b38790> with 1 widget\n",
       "  f: EvalText(value='x^2', descr…"
      ]
     },
     "metadata": {},
     "output_type": "display_data"
    }
   ],
   "source": [
    "@interact\n",
    "def myplot(f=input_box(default=x^2), auto_update=False):\n",
    "    show(plot(f,(x,-3,10)))"
   ]
  },
  {
   "cell_type": "code",
   "execution_count": 3,
   "metadata": {},
   "outputs": [
    {
     "data": {
      "application/vnd.jupyter.widget-view+json": {
       "model_id": "a5ded3eaf96349fe8feea822f25d1714",
       "version_major": 2,
       "version_minor": 0
      },
      "text/plain": [
       "Interactive function <function showfactorial at 0x7f08f4b51160> with 1 widget\n",
       "  n: TransformIntSlider(value=1,…"
      ]
     },
     "metadata": {},
     "output_type": "display_data"
    }
   ],
   "source": [
    "@interact\n",
    "def showfactorial(n=slider(1,20, step_size=1), auto_update=True):\n",
    "      k = 0.5*n;\n",
    "      p=plot(sin(k*x),(x,0,5*pi));\n",
    "      p.show()"
   ]
  },
  {
   "cell_type": "code",
   "execution_count": 4,
   "metadata": {},
   "outputs": [
    {
     "data": {
      "application/vnd.jupyter.widget-view+json": {
       "model_id": "a5ea4b31420b4bac9877c94667e6c0e4",
       "version_major": 2,
       "version_minor": 0
      },
      "text/plain": [
       "Manual interactive function <function myinteract at 0x7f08f4a2e310> with 4 widgets\n",
       "  f: EvalText(value='e^x', …"
      ]
     },
     "metadata": {},
     "output_type": "display_data"
    }
   ],
   "source": [
    "@interact\n",
    "def myinteract(\n",
    "    f = input_box(default=e^x),\n",
    "    n = slider(vmin=0, vmax=20, step_size=1, default=3, label=\"Select order: \"),\n",
    "    x0 = input_box(default=0),\n",
    "    simplified = selector(values=[\"Yes\", \"No\"], label=\"Simplify:\", default=\"No\"),\n",
    "    auto_update=False\n",
    "):\n",
    "    if(simplified == \"Yes\"):\n",
    "        print(f, \" = \", f.taylor(x,x0,n).full_simplify())\n",
    "    else:\n",
    "        print(f, \" = \", f.taylor(x,x0,n))"
   ]
  },
  {
   "cell_type": "code",
   "execution_count": null,
   "metadata": {},
   "outputs": [],
   "source": []
  }
 ],
 "metadata": {
  "kernelspec": {
   "display_name": "SageMath 9.4",
   "language": "sage",
   "name": "sagemath"
  },
  "language_info": {
   "codemirror_mode": {
    "name": "ipython",
    "version": 3
   },
   "file_extension": ".py",
   "mimetype": "text/x-python",
   "name": "python",
   "nbconvert_exporter": "python",
   "pygments_lexer": "ipython3",
   "version": "3.9.5"
  }
 },
 "nbformat": 4,
 "nbformat_minor": 4
}
