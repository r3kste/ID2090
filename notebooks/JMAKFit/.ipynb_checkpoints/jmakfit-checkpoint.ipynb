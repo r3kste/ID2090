{
 "cells": [
  {
   "cell_type": "markdown",
   "metadata": {},
   "source": [
    "# Fitting phase transformation data\n",
    "\n",
    "## Introduction\n",
    "Phase transformations often involve change of density. Using dilatometry tests, one can measure the change in dimensions of a sample and thus quantify the extent of phase transformation that took place in the sample. The data is usually given as a function of temperature.\n",
    "\n",
    "## Model\n",
    "This data should be fit using the so called Johnson-Mehl-Avrami-Kolmogorov model. The equation for this model is given as below.\n",
    "\n",
    "$f=1-\\exp\\left(-Kt^n\\right)$\n",
    "\n",
    "Here, $f$ is the fraction transformed, $t$ is time elapsed, $K$ is the Avrami coefficient and $n$ is the Avrami exponent.\n",
    "\n",
    "## Something else\n",
    "We pick example data from Figure 6 of the journal article titled \"Effect of cold deformation on the recrystallization behavior of FePd alloy at the ordering temperature using electron backscatter diffraction\" by Hung-Pin Lin et al., Materials Characterization 94 (2014) 138-148. The article is available online at doi: <a href=\"http://dx.doi.org/10.1016/j.matchar.2014.05.018\">10.1016/j.matchar.2014.05.018</a>. The data is entered in an array as follows. "
   ]
  },
  {
   "cell_type": "code",
   "execution_count": 1,
   "metadata": {},
   "outputs": [],
   "source": [
    "%matplotlib inline\n",
    "import numpy as np\n",
    "import matplotlib.pyplot as plt\n",
    "\n",
    "fdata = np.array([[0.2971562455462992, 5.6349544384787436], \n",
    "[0.4912199565971146, 9.791607726338654],\n",
    "[0.6070174158731206, 11.712932881086147],\n",
    "[0.812323106931194, 16.06202957845879],\n",
    "[0.987706134287128, 26.1157209788188],\n",
    "[1.5486828002791662, 30.117238141724172],\n",
    "[1.9331199126044512, 39.19161332243134],\n",
    "[2.5210160521584095, 46.958989967449405],\n",
    "[2.9326992033811985, 55.88071617550592],\n",
    "[3.998900521755244, 66.73122899522158],\n",
    "[4.991567172913602, 75.80560417592875],\n",
    "[6.0124394559244765, 82.44598993325107],\n",
    "[7.980689192649033, 90.53607458969762],\n",
    "[9.0318210269715, 93.12022583342922],\n",
    "[10.041534309538438, 94.89387632013383],\n",
    "[11.979925312058725, 97.14537094322145],\n",
    "[13.917111418627282, 98.26241322170168],\n",
    "[17.811810301100348, 99.36577616251056]], np.double);"
   ]
  },
  {
   "cell_type": "code",
   "execution_count": 2,
   "metadata": {},
   "outputs": [
    {
     "data": {
      "image/png": "[encoded data removed]",
      "text/plain": [
       "<matplotlib.figure.Figure at 0x7f7ab8578550>"
      ]
     },
     "metadata": {
      "needs_background": "light"
     },
     "output_type": "display_data"
    }
   ],
   "source": [
    "plt.figure(figsize=(6, 4))\n",
    "plt.plot(fdata[:,0],fdata[:,1]/100,'ko',label='data')\n",
    "plt.show()"
   ]
  },
  {
   "cell_type": "markdown",
   "metadata": {},
   "source": [
    "We need to use a generic curve fitting tool and not a polynomial regression as the function we are fitting is an exponential one. For this, we use the optimization module from scipy. We need to define the function we want to fit."
   ]
  },
  {
   "cell_type": "code",
   "execution_count": 3,
   "metadata": {},
   "outputs": [],
   "source": [
    "from scipy.optimize import curve_fit\n",
    "from math import exp\n",
    "def jmak(x, k, n):\n",
    "    return 1-exp(-k*x**n)\n",
    "\n",
    "x = fdata[:,0]\n",
    "y = fdata[:,1]/100\n",
    "p0 = [0.01, 3]\n",
    "B = [[0,1],[1,4]]\n",
    "jmak2 = np.vectorize(jmak)\n",
    "popt, pcov = curve_fit(jmak2, x, y, p0, bounds=B)"
   ]
  },
  {
   "cell_type": "code",
   "execution_count": 4,
   "metadata": {},
   "outputs": [
    {
     "name": "stdout",
     "output_type": "stream",
     "text": [
      "[ 0.24021247  1.09949226]\n"
     ]
    }
   ],
   "source": [
    "print(popt)"
   ]
  },
  {
   "cell_type": "markdown",
   "metadata": {},
   "source": [
    "The JAMK exponent can be said to be about 1.1 for this data and the fit."
   ]
  },
  {
   "cell_type": "code",
   "execution_count": 5,
   "metadata": {},
   "outputs": [
    {
     "data": {
      "image/png": "[encoded data removed]",
      "text/plain": [
       "<matplotlib.figure.Figure at 0x7f7a8cd4a3d0>"
      ]
     },
     "metadata": {
      "needs_background": "light"
     },
     "output_type": "display_data"
    }
   ],
   "source": [
    "xx = np.linspace(1,20,100)\n",
    "yy = jmak2(xx, *popt)\n",
    "plt.plot(xx, yy, 'r-', label='JMAK fit')\n",
    "plt.plot(fdata[:,0],fdata[:,1]/100,'ko')\n",
    "plt.show()"
   ]
  },
  {
   "cell_type": "markdown",
   "metadata": {},
   "source": [
    "The paper report the JMAK exponent to be 1.14 for this data set signifying heterogeneous site saturated nucleation of recrystallized grains. If this exponent were around 3, it signifies ideal recrystallization for homogeneous, continuous rate nucleation."
   ]
  },
  {
   "cell_type": "markdown",
   "metadata": {},
   "source": [
    "Ref: For further info on JAMK model, refer to Principles of Physical Metallurgy by Reed-Hill"
   ]
  }
 ],
 "metadata": {
  "kernelspec": {
   "display_name": "Python 3",
   "language": "python",
   "name": "python3"
  },
  "language_info": {
   "codemirror_mode": {
    "name": "ipython",
    "version": 2
   },
   "file_extension": ".py",
   "mimetype": "text/x-python",
   "name": "python",
   "nbconvert_exporter": "python",
   "pygments_lexer": "ipython2",
   "version": "2.7.15rc1"
  }
 },
 "nbformat": 4,
 "nbformat_minor": 2
}
