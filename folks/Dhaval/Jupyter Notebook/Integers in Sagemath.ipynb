{
 "cells": [
  {
   "cell_type": "code",
   "execution_count": 1,
   "id": "grave-dublin",
   "metadata": {},
   "outputs": [
    {
     "data": {
      "text/html": [
       "<html><script type=\"math/tex; mode=display\">\\newcommand{\\Bold}[1]{\\mathbf{#1}}k \\ {\\mapsto}\\ \\frac{\\left(-1\\right)^{k + 1}}{k}</script></html>"
      ],
      "text/latex": [
       "\\begin{math}\n",
       "\\newcommand{\\Bold}[1]{\\mathbf{#1}}k \\ {\\mapsto}\\ \\frac{\\left(-1\\right)^{k + 1}}{k}\n",
       "\\end{math}"
      ],
      "text/plain": [
       "k |--> (-1)^(k + 1)/k"
      ]
     },
     "metadata": {},
     "output_type": "display_data"
    }
   ],
   "source": [
    "var('n','k')\n",
    "s1(k) = (-1)^(k+1)*1/k\n",
    "s1.show()"
   ]
  },
  {
   "cell_type": "code",
   "execution_count": 2,
   "id": "funny-table",
   "metadata": {},
   "outputs": [
    {
     "data": {
      "text/plain": [
       "log(2)"
      ]
     },
     "execution_count": 2,
     "metadata": {},
     "output_type": "execute_result"
    }
   ],
   "source": [
    "s1.sum(k,1,oo)"
   ]
  },
  {
   "cell_type": "code",
   "execution_count": 3,
   "id": "brave-yugoslavia",
   "metadata": {},
   "outputs": [
    {
     "data": {
      "text/html": [
       "<html><script type=\"math/tex; mode=display\">\\newcommand{\\Bold}[1]{\\mathbf{#1}}k \\ {\\mapsto}\\ {n \\choose k}</script></html>"
      ],
      "text/latex": [
       "\\begin{math}\n",
       "\\newcommand{\\Bold}[1]{\\mathbf{#1}}k \\ {\\mapsto}\\ {n \\choose k}\n",
       "\\end{math}"
      ],
      "text/plain": [
       "k |--> binomial(n, k)"
      ]
     },
     "metadata": {},
     "output_type": "display_data"
    }
   ],
   "source": [
    "s2(k)=binomial(n,k)\n",
    "s2.show()"
   ]
  },
  {
   "cell_type": "code",
   "execution_count": 4,
   "id": "earned-tablet",
   "metadata": {},
   "outputs": [
    {
     "data": {
      "text/plain": [
       "2^n - 1"
      ]
     },
     "execution_count": 4,
     "metadata": {},
     "output_type": "execute_result"
    }
   ],
   "source": [
    "s2.sum(k,1,oo)"
   ]
  },
  {
   "cell_type": "code",
   "execution_count": 11,
   "id": "informative-software",
   "metadata": {},
   "outputs": [
    {
     "data": {
      "text/html": [
       "<html><script type=\"math/tex; mode=display\">\\newcommand{\\Bold}[1]{\\mathbf{#1}}n \\ {\\mapsto}\\ H_{n}</script></html>"
      ],
      "text/latex": [
       "\\begin{math}\n",
       "\\newcommand{\\Bold}[1]{\\mathbf{#1}}n \\ {\\mapsto}\\ H_{n}\n",
       "\\end{math}"
      ],
      "text/plain": [
       "n |--> harmonic_number(n)"
      ]
     },
     "metadata": {},
     "output_type": "display_data"
    }
   ],
   "source": [
    "s3(k) = 1/k\n",
    "q3(n) = s3.sum(k,1,n)\n",
    "q3.show()"
   ]
  },
  {
   "cell_type": "code",
   "execution_count": 12,
   "id": "behavioral-pilot",
   "metadata": {},
   "outputs": [
    {
     "data": {
      "text/plain": [
       "137/60"
      ]
     },
     "execution_count": 12,
     "metadata": {},
     "output_type": "execute_result"
    }
   ],
   "source": [
    "q3(5)"
   ]
  },
  {
   "cell_type": "code",
   "execution_count": 13,
   "id": "textile-fellow",
   "metadata": {},
   "outputs": [],
   "source": [
    "n = ZZ(10)"
   ]
  },
  {
   "cell_type": "code",
   "execution_count": 14,
   "id": "abandoned-programming",
   "metadata": {},
   "outputs": [
    {
     "data": {
      "text/plain": [
       "<class 'sage.rings.integer.Integer'>"
      ]
     },
     "execution_count": 14,
     "metadata": {},
     "output_type": "execute_result"
    }
   ],
   "source": [
    "type(n)"
   ]
  },
  {
   "cell_type": "code",
   "execution_count": 17,
   "id": "unusual-things",
   "metadata": {},
   "outputs": [
    {
     "data": {
      "text/plain": [
       "[1, 3, 5, 7, 9, 11, 13, 15, 17, 19, 21, 23, 25, 27, 29, 31, 33, 35, 37, 39]"
      ]
     },
     "execution_count": 17,
     "metadata": {},
     "output_type": "execute_result"
    }
   ],
   "source": [
    "l1 = ZZ.range(1,40,2)\n",
    "l1"
   ]
  },
  {
   "cell_type": "code",
   "execution_count": 18,
   "id": "parental-brand",
   "metadata": {},
   "outputs": [
    {
     "data": {
      "text/plain": [
       "5"
      ]
     },
     "execution_count": 18,
     "metadata": {},
     "output_type": "execute_result"
    }
   ],
   "source": [
    "ZZ.gcd(125,630)"
   ]
  },
  {
   "cell_type": "code",
   "execution_count": 19,
   "id": "hispanic-october",
   "metadata": {},
   "outputs": [
    {
     "data": {
      "text/plain": [
       "400"
      ]
     },
     "execution_count": 19,
     "metadata": {},
     "output_type": "execute_result"
    }
   ],
   "source": [
    "ZZ.sum(l1)"
   ]
  },
  {
   "cell_type": "code",
   "execution_count": 23,
   "id": "standing-benjamin",
   "metadata": {},
   "outputs": [
    {
     "data": {
      "text/plain": [
       "319830986772877770815625"
      ]
     },
     "execution_count": 23,
     "metadata": {},
     "output_type": "execute_result"
    }
   ],
   "source": [
    "ZZ.prod(l1)"
   ]
  },
  {
   "cell_type": "code",
   "execution_count": 26,
   "id": "excellent-listing",
   "metadata": {},
   "outputs": [
    {
     "data": {
      "text/plain": [
       "[1,\n",
       " 5,\n",
       " 25,\n",
       " 125,\n",
       " 625,\n",
       " 3125,\n",
       " 15625,\n",
       " 78125,\n",
       " 390625,\n",
       " 1953125,\n",
       " 9765625,\n",
       " 48828125,\n",
       " 244140625,\n",
       " 1220703125,\n",
       " 6103515625,\n",
       " 30517578125]"
      ]
     },
     "execution_count": 26,
     "metadata": {},
     "output_type": "execute_result"
    }
   ],
   "source": [
    "n=ZZ(5)\n",
    "n.powers(16)"
   ]
  },
  {
   "cell_type": "code",
   "execution_count": 28,
   "id": "juvenile-currency",
   "metadata": {},
   "outputs": [
    {
     "data": {
      "text/plain": [
       "11978571669969891796072783721689098736458938142546425857555362864628009582789845319680000000000000000"
      ]
     },
     "execution_count": 28,
     "metadata": {},
     "output_type": "execute_result"
    }
   ],
   "source": [
    "70.factorial()"
   ]
  },
  {
   "cell_type": "code",
   "execution_count": 29,
   "id": "exposed-harmony",
   "metadata": {},
   "outputs": [
    {
     "data": {
      "text/plain": [
       "3 * 5 * 829 * 776327"
      ]
     },
     "execution_count": 29,
     "metadata": {},
     "output_type": "execute_result"
    }
   ],
   "source": [
    "factor(9653626245)"
   ]
  },
  {
   "cell_type": "code",
   "execution_count": 30,
   "id": "apparent-restoration",
   "metadata": {},
   "outputs": [
    {
     "data": {
      "text/plain": [
       "7358033183"
      ]
     },
     "execution_count": 30,
     "metadata": {},
     "output_type": "execute_result"
    }
   ],
   "source": [
    "factor(7358033183)"
   ]
  },
  {
   "cell_type": "code",
   "execution_count": 31,
   "id": "marked-teddy",
   "metadata": {},
   "outputs": [
    {
     "data": {
      "text/plain": [
       "[3, 5, 829, 776327]"
      ]
     },
     "execution_count": 31,
     "metadata": {},
     "output_type": "execute_result"
    }
   ],
   "source": [
    "n=9653626245\n",
    "n.prime_factors()"
   ]
  },
  {
   "cell_type": "code",
   "execution_count": 32,
   "id": "powered-spectacular",
   "metadata": {},
   "outputs": [
    {
     "data": {
      "text/plain": [
       "[5, 4, 2, 6, 2, 6, 3, 5, 6, 9]"
      ]
     },
     "execution_count": 32,
     "metadata": {},
     "output_type": "execute_result"
    }
   ],
   "source": [
    "n.digits()"
   ]
  },
  {
   "cell_type": "code",
   "execution_count": 33,
   "id": "referenced-lotus",
   "metadata": {},
   "outputs": [
    {
     "data": {
      "text/plain": [
       "997"
      ]
     },
     "execution_count": 33,
     "metadata": {},
     "output_type": "execute_result"
    }
   ],
   "source": [
    "1000.previous_prime()"
   ]
  },
  {
   "cell_type": "code",
   "execution_count": 40,
   "id": "palestinian-player",
   "metadata": {},
   "outputs": [
    {
     "data": {
      "text/plain": [
       "False"
      ]
     },
     "execution_count": 40,
     "metadata": {},
     "output_type": "execute_result"
    }
   ],
   "source": [
    "1484616819849415494987987911111111111111111111111111111111111111111111111111111111111111111111.is_prime()"
   ]
  },
  {
   "cell_type": "code",
   "execution_count": 41,
   "id": "loved-attack",
   "metadata": {},
   "outputs": [
    {
     "data": {
      "text/plain": [
       "3.50000000000000"
      ]
     },
     "execution_count": 41,
     "metadata": {},
     "output_type": "execute_result"
    }
   ],
   "source": [
    "a = RR(7/2)\n",
    "a"
   ]
  },
  {
   "cell_type": "code",
   "execution_count": 42,
   "id": "other-screw",
   "metadata": {},
   "outputs": [
    {
     "data": {
      "text/plain": [
       "7/2"
      ]
     },
     "execution_count": 42,
     "metadata": {},
     "output_type": "execute_result"
    }
   ],
   "source": [
    "b = QQ(7/2)\n",
    "b"
   ]
  },
  {
   "cell_type": "code",
   "execution_count": 43,
   "id": "exempt-beaver",
   "metadata": {},
   "outputs": [
    {
     "data": {
      "text/plain": [
       "12.2500000000000"
      ]
     },
     "execution_count": 43,
     "metadata": {},
     "output_type": "execute_result"
    }
   ],
   "source": [
    "a**2"
   ]
  },
  {
   "cell_type": "code",
   "execution_count": 44,
   "id": "noted-burke",
   "metadata": {},
   "outputs": [
    {
     "data": {
      "text/plain": [
       "49/4"
      ]
     },
     "execution_count": 44,
     "metadata": {},
     "output_type": "execute_result"
    }
   ],
   "source": [
    "b**2"
   ]
  },
  {
   "cell_type": "code",
   "execution_count": 45,
   "id": "architectural-catering",
   "metadata": {},
   "outputs": [
    {
     "data": {
      "text/plain": [
       "53"
      ]
     },
     "execution_count": 45,
     "metadata": {},
     "output_type": "execute_result"
    }
   ],
   "source": [
    "RR.prec()"
   ]
  },
  {
   "cell_type": "code",
   "execution_count": 46,
   "id": "printable-origin",
   "metadata": {},
   "outputs": [
    {
     "data": {
      "text/plain": [
       "0"
      ]
     },
     "execution_count": 46,
     "metadata": {},
     "output_type": "execute_result"
    }
   ],
   "source": [
    "QQ.epsilon()"
   ]
  },
  {
   "cell_type": "code",
   "execution_count": 47,
   "id": "severe-option",
   "metadata": {},
   "outputs": [],
   "source": [
    "R = RealField(512)"
   ]
  },
  {
   "cell_type": "code",
   "execution_count": 48,
   "id": "typical-morgan",
   "metadata": {},
   "outputs": [
    {
     "data": {
      "text/plain": [
       "<class 'sage.rings.real_mpfr.RealField_class'>"
      ]
     },
     "execution_count": 48,
     "metadata": {},
     "output_type": "execute_result"
    }
   ],
   "source": [
    "type(R)"
   ]
  },
  {
   "cell_type": "code",
   "execution_count": 49,
   "id": "aerial-updating",
   "metadata": {},
   "outputs": [
    {
     "data": {
      "text/plain": [
       "1.49166814624004134865819306309258676747529430692008137885430366664125567701402366098723497808008556067230232065116722029068254561904506053209723296591842e-154"
      ]
     },
     "execution_count": 49,
     "metadata": {},
     "output_type": "execute_result"
    }
   ],
   "source": [
    "R.epsilon()"
   ]
  },
  {
   "cell_type": "code",
   "execution_count": 53,
   "id": "modified-segment",
   "metadata": {},
   "outputs": [
    {
     "data": {
      "text/plain": [
       "3.14159265358979323846264338327950288419716939937510582097494459230781640628620899862803482534211706798214808651328230664709384460955058223172535940812848"
      ]
     },
     "execution_count": 53,
     "metadata": {},
     "output_type": "execute_result"
    }
   ],
   "source": [
    "mypi = R.pi()\n",
    "mypi"
   ]
  },
  {
   "cell_type": "code",
   "execution_count": 56,
   "id": "future-spain",
   "metadata": {},
   "outputs": [
    {
     "data": {
      "text/plain": [
       "-1.00000000000000000000000000000000000000000000000000000000000000000000000000000000000000000000000000000000000000000000000000000000000000000000000000000000"
      ]
     },
     "execution_count": 56,
     "metadata": {},
     "output_type": "execute_result"
    }
   ],
   "source": [
    "mypi.cos()"
   ]
  },
  {
   "cell_type": "code",
   "execution_count": 57,
   "id": "coordinate-national",
   "metadata": {},
   "outputs": [
    {
     "data": {
      "text/plain": [
       "True"
      ]
     },
     "execution_count": 57,
     "metadata": {},
     "output_type": "execute_result"
    }
   ],
   "source": [
    "RR.is_field()\n",
    "ZZ.is_field()\n",
    "QQ.is_field()\n"
   ]
  },
  {
   "cell_type": "code",
   "execution_count": 58,
   "id": "humanitarian-carpet",
   "metadata": {},
   "outputs": [
    {
     "data": {
      "text/plain": [
       "259/10"
      ]
     },
     "execution_count": 58,
     "metadata": {},
     "output_type": "execute_result"
    }
   ],
   "source": [
    "r1 = QQ(7/2)\n",
    "r2 = QQ(37/5)\n",
    "r1*r2"
   ]
  },
  {
   "cell_type": "code",
   "execution_count": 59,
   "id": "incorporated-context",
   "metadata": {},
   "outputs": [
    {
     "data": {
      "text/plain": [
       "109/10"
      ]
     },
     "execution_count": 59,
     "metadata": {},
     "output_type": "execute_result"
    }
   ],
   "source": [
    "r1 + r2"
   ]
  },
  {
   "cell_type": "code",
   "execution_count": 60,
   "id": "double-uganda",
   "metadata": {},
   "outputs": [
    {
     "data": {
      "text/plain": [
       "(3, [3/7])"
      ]
     },
     "execution_count": 60,
     "metadata": {},
     "output_type": "execute_result"
    }
   ],
   "source": [
    "r1 = QQ(24/7)\n",
    "r1.partial_fraction_decomposition()"
   ]
  },
  {
   "cell_type": "code",
   "execution_count": 61,
   "id": "reported-today",
   "metadata": {},
   "outputs": [
    {
     "data": {
      "text/plain": [
       "4"
      ]
     },
     "execution_count": 61,
     "metadata": {},
     "output_type": "execute_result"
    }
   ],
   "source": [
    "r1.ceil()"
   ]
  },
  {
   "cell_type": "code",
   "execution_count": 62,
   "id": "specialized-offense",
   "metadata": {},
   "outputs": [
    {
     "data": {
      "text/plain": [
       "3"
      ]
     },
     "execution_count": 62,
     "metadata": {},
     "output_type": "execute_result"
    }
   ],
   "source": [
    "r1.floor()"
   ]
  },
  {
   "cell_type": "code",
   "execution_count": 63,
   "id": "happy-boating",
   "metadata": {},
   "outputs": [
    {
     "data": {
      "text/plain": [
       "[3; 2, 3]"
      ]
     },
     "execution_count": 63,
     "metadata": {},
     "output_type": "execute_result"
    }
   ],
   "source": [
    "r1.continued_fraction()"
   ]
  },
  {
   "cell_type": "code",
   "execution_count": 64,
   "id": "coral-antique",
   "metadata": {},
   "outputs": [
    {
     "data": {
      "text/plain": [
       "8"
      ]
     },
     "execution_count": 64,
     "metadata": {},
     "output_type": "execute_result"
    }
   ],
   "source": [
    "r1= QQ(1/256)\n",
    "r2 = QQ(1/2)\n",
    "r1.log(r2)"
   ]
  },
  {
   "cell_type": "code",
   "execution_count": 65,
   "id": "exterior-coast",
   "metadata": {},
   "outputs": [
    {
     "data": {
      "text/plain": [
       "1/4"
      ]
     },
     "execution_count": 65,
     "metadata": {},
     "output_type": "execute_result"
    }
   ],
   "source": [
    "r1.nth_root(4)"
   ]
  },
  {
   "cell_type": "code",
   "execution_count": null,
   "id": "welsh-jamaica",
   "metadata": {},
   "outputs": [],
   "source": []
  }
 ],
 "metadata": {
  "kernelspec": {
   "display_name": "SageMath 9.2",
   "language": "sage",
   "name": "sagemath"
  },
  "language_info": {
   "codemirror_mode": {
    "name": "ipython",
    "version": 3
   },
   "file_extension": ".py",
   "mimetype": "text/x-python",
   "name": "python",
   "nbconvert_exporter": "python",
   "pygments_lexer": "ipython3",
   "version": "3.9.5"
  }
 },
 "nbformat": 4,
 "nbformat_minor": 5
}
