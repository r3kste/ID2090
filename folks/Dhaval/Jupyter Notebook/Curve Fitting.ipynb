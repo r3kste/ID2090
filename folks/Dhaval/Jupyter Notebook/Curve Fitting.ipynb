{
 "cells": [
  {
   "cell_type": "markdown",
   "id": "smart-dressing",
   "metadata": {},
   "source": [
    "## Here we will fit non-linear curve"
   ]
  },
  {
   "cell_type": "code",
   "execution_count": 20,
   "id": "expired-showcase",
   "metadata": {},
   "outputs": [
    {
     "data": {
      "text/plain": [
       "<function matplotlib.pyplot.show(close=None, block=None)>"
      ]
     },
     "execution_count": 20,
     "metadata": {},
     "output_type": "execute_result"
    },
    {
     "data": {
      "image/png": "[encoded data removed]",
      "text/plain": [
       "<Figure size 432x288 with 1 Axes>"
      ]
     },
     "metadata": {
      "needs_background": "light"
     },
     "output_type": "display_data"
    }
   ],
   "source": [
    "import numpy as np\n",
    "np.random.seed(0)\n",
    "x = np.linspace(-5,5,num=50)\n",
    "y = 3.0 * np.sin(1.25+x)*np.exp(-0.3*x) +  0.4*np.random.normal(size=50)\n",
    "%matplotlib inline\n",
    "import matplotlib.pyplot as plt\n",
    "plt.scatter(x,y)\n",
    "plt.show"
   ]
  },
  {
   "cell_type": "code",
   "execution_count": 43,
   "id": "ancient-masters",
   "metadata": {},
   "outputs": [
    {
     "name": "stdout",
     "output_type": "stream",
     "text": [
      "[3.01360388 1.21900497 0.29706936]\n"
     ]
    }
   ],
   "source": [
    "from scipy import optimize\n",
    "def myfunc(x,a,b,c):\n",
    "    return a*np.sin(b+x)*np.exp(-c*x)\n",
    "params, params_covariance = optimize.curve_fit(myfunc,x,y,p0=[2,2,0.1])\n",
    "print(params)"
   ]
  },
  {
   "cell_type": "code",
   "execution_count": 25,
   "id": "floppy-iraqi",
   "metadata": {},
   "outputs": [
    {
     "data": {
      "image/png": "[encoded data removed]",
      "text/plain": [
       "<Figure size 432x288 with 1 Axes>"
      ]
     },
     "metadata": {
      "needs_background": "light"
     },
     "output_type": "display_data"
    }
   ],
   "source": [
    "plt.figure(figsize=(6,4))\n",
    "plt.scatter(x,y,label='noisy')\n",
    "plt.plot(x,myfunc(x,params[0],params[1],params[2]), label='fit')\n",
    "plt.legend(loc='best')\n",
    "plt.show()"
   ]
  },
  {
   "cell_type": "code",
   "execution_count": 26,
   "id": "parliamentary-cassette",
   "metadata": {},
   "outputs": [
    {
     "name": "stdout",
     "output_type": "stream",
     "text": [
      "[0.15896958 0.11037514 0.65632959 0.13818295 0.19658236 0.36872517\n",
      " 0.82099323 0.09710128 0.83794491]\n",
      "[[0.15896958 0.11037514 0.65632959]\n",
      " [0.13818295 0.19658236 0.36872517]\n",
      " [0.82099323 0.09710128 0.83794491]]\n"
     ]
    }
   ],
   "source": [
    "A =np.random.rand(9)\n",
    "print(A)\n",
    "B =A.reshape(3,3)\n",
    "print(B)"
   ]
  },
  {
   "cell_type": "code",
   "execution_count": 27,
   "id": "invisible-attempt",
   "metadata": {},
   "outputs": [
    {
     "data": {
      "text/plain": [
       "3"
      ]
     },
     "execution_count": 27,
     "metadata": {},
     "output_type": "execute_result"
    }
   ],
   "source": [
    "np.linalg.matrix_rank(B)"
   ]
  },
  {
   "cell_type": "code",
   "execution_count": 28,
   "id": "dress-pavilion",
   "metadata": {},
   "outputs": [
    {
     "data": {
      "text/plain": [
       "-0.055993249990001694"
      ]
     },
     "execution_count": 28,
     "metadata": {},
     "output_type": "execute_result"
    }
   ],
   "source": [
    "np.linalg.det(B)"
   ]
  },
  {
   "cell_type": "code",
   "execution_count": 29,
   "id": "incorrect-resource",
   "metadata": {},
   "outputs": [
    {
     "name": "stdout",
     "output_type": "stream",
     "text": [
      "[[-2.30244725  0.51359489  1.57741742]\n",
      " [-3.33845898  7.24434457 -0.57288107]\n",
      " [ 2.6427301  -1.34268138 -0.28572468]]\n"
     ]
    }
   ],
   "source": [
    "Binv = np.linalg.inv(B)\n",
    "print(Binv)"
   ]
  },
  {
   "cell_type": "code",
   "execution_count": 30,
   "id": "official-testament",
   "metadata": {},
   "outputs": [
    {
     "data": {
      "text/plain": [
       "1.0000000000000002"
      ]
     },
     "execution_count": 30,
     "metadata": {},
     "output_type": "execute_result"
    }
   ],
   "source": [
    "np.linalg.det(B) * np.linalg.det(Binv)"
   ]
  },
  {
   "cell_type": "code",
   "execution_count": 31,
   "id": "indian-collar",
   "metadata": {},
   "outputs": [
    {
     "data": {
      "text/plain": [
       "dtype('float64')"
      ]
     },
     "execution_count": 31,
     "metadata": {},
     "output_type": "execute_result"
    }
   ],
   "source": [
    "B.dtype"
   ]
  },
  {
   "cell_type": "code",
   "execution_count": 32,
   "id": "southeast-subscriber",
   "metadata": {},
   "outputs": [
    {
     "data": {
      "text/plain": [
       "finfo(resolution=1e-15, min=-1.7976931348623157e+308, max=1.7976931348623157e+308, dtype=float64)"
      ]
     },
     "execution_count": 32,
     "metadata": {},
     "output_type": "execute_result"
    }
   ],
   "source": [
    "np.finfo(np.float64)"
   ]
  },
  {
   "cell_type": "code",
   "execution_count": 33,
   "id": "republican-uzbekistan",
   "metadata": {},
   "outputs": [
    {
     "data": {
      "text/plain": [
       "array([[ 1.00000000e+00,  2.25489299e-17, -2.06715640e-17],\n",
       "       [ 6.67084849e-17,  1.00000000e+00, -2.80220918e-17],\n",
       "       [ 1.43910790e-17, -1.18452407e-18,  1.00000000e+00]])"
      ]
     },
     "execution_count": 33,
     "metadata": {},
     "output_type": "execute_result"
    }
   ],
   "source": [
    "np.dot(B,Binv)"
   ]
  },
  {
   "cell_type": "code",
   "execution_count": 34,
   "id": "front-publisher",
   "metadata": {},
   "outputs": [
    {
     "data": {
      "text/plain": [
       "array([[0.15896958, 0.13818295, 0.82099323],\n",
       "       [0.11037514, 0.19658236, 0.09710128],\n",
       "       [0.65632959, 0.36872517, 0.83794491]])"
      ]
     },
     "execution_count": 34,
     "metadata": {},
     "output_type": "execute_result"
    }
   ],
   "source": [
    "B.transpose()"
   ]
  },
  {
   "cell_type": "code",
   "execution_count": 35,
   "id": "surrounded-protein",
   "metadata": {},
   "outputs": [
    {
     "data": {
      "text/plain": [
       "1.193496852824377"
      ]
     },
     "execution_count": 35,
     "metadata": {},
     "output_type": "execute_result"
    }
   ],
   "source": [
    "B.trace()"
   ]
  },
  {
   "cell_type": "code",
   "execution_count": 37,
   "id": "respective-structure",
   "metadata": {},
   "outputs": [
    {
     "data": {
      "text/plain": [
       "array([ 1.35537274, -0.29971413,  0.13783824])"
      ]
     },
     "execution_count": 37,
     "metadata": {},
     "output_type": "execute_result"
    }
   ],
   "source": [
    "np.linalg.eigvals(B)"
   ]
  },
  {
   "cell_type": "code",
   "execution_count": 39,
   "id": "damaged-trouble",
   "metadata": {},
   "outputs": [
    {
     "data": {
      "text/plain": [
       "array([[0., 0., 0.],\n",
       "       [0., 0., 0.],\n",
       "       [0., 0., 0.]])"
      ]
     },
     "execution_count": 39,
     "metadata": {},
     "output_type": "execute_result"
    }
   ],
   "source": [
    "B."
   ]
  },
  {
   "cell_type": "code",
   "execution_count": null,
   "id": "heated-mississippi",
   "metadata": {},
   "outputs": [],
   "source": []
  }
 ],
 "metadata": {
  "kernelspec": {
   "display_name": "Python 3",
   "language": "python",
   "name": "python3"
  },
  "language_info": {
   "codemirror_mode": {
    "name": "ipython",
    "version": 3
   },
   "file_extension": ".py",
   "mimetype": "text/x-python",
   "name": "python",
   "nbconvert_exporter": "python",
   "pygments_lexer": "ipython3",
   "version": "3.9.5"
  }
 },
 "nbformat": 4,
 "nbformat_minor": 5
}
