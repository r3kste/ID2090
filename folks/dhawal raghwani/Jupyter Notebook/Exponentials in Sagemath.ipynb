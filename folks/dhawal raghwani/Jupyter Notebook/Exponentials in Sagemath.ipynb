{
 "cells": [
  {
   "cell_type": "code",
   "execution_count": 9,
   "id": "fewer-telescope",
   "metadata": {},
   "outputs": [
    {
     "data": {
      "text/plain": [
       "(x, y)"
      ]
     },
     "execution_count": 9,
     "metadata": {},
     "output_type": "execute_result"
    }
   ],
   "source": [
    "var('x,y')"
   ]
  },
  {
   "cell_type": "code",
   "execution_count": 17,
   "id": "lasting-brick",
   "metadata": {},
   "outputs": [],
   "source": [
    "exp1 = (x+5)^20"
   ]
  },
  {
   "cell_type": "code",
   "execution_count": 18,
   "id": "dirty-drain",
   "metadata": {},
   "outputs": [
    {
     "data": {
      "text/html": [
       "<html><script type=\"math/tex; mode=display\">\\newcommand{\\Bold}[1]{\\mathbf{#1}}{\\left(x + 5\\right)}^{20}</script></html>"
      ],
      "text/latex": [
       "\\begin{math}\n",
       "\\newcommand{\\Bold}[1]{\\mathbf{#1}}{\\left(x + 5\\right)}^{20}\n",
       "\\end{math}"
      ],
      "text/plain": [
       "(x + 5)^20"
      ]
     },
     "metadata": {},
     "output_type": "display_data"
    }
   ],
   "source": [
    "exp1.show()"
   ]
  },
  {
   "cell_type": "code",
   "execution_count": 19,
   "id": "determined-briefing",
   "metadata": {},
   "outputs": [
    {
     "data": {
      "text/plain": [
       "x^20 + 100*x^19 + 4750*x^18 + 142500*x^17 + 3028125*x^16 + 48450000*x^15 + 605625000*x^14 + 6056250000*x^13 + 49207031250*x^12 + 328046875000*x^11 + 1804257812500*x^10 + 8201171875000*x^9 + 30754394531250*x^8 + 94628906250000*x^7 + 236572265625000*x^6 + 473144531250000*x^5 + 739288330078125*x^4 + 869750976562500*x^3 + 724792480468750*x^2 + 381469726562500*x + 95367431640625"
      ]
     },
     "execution_count": 19,
     "metadata": {},
     "output_type": "execute_result"
    }
   ],
   "source": [
    "exp1.expand()"
   ]
  },
  {
   "cell_type": "code",
   "execution_count": 22,
   "id": "binary-slovakia",
   "metadata": {},
   "outputs": [],
   "source": [
    "exp2 = x^2 +2*x -3"
   ]
  },
  {
   "cell_type": "code",
   "execution_count": 23,
   "id": "heavy-sunday",
   "metadata": {},
   "outputs": [
    {
     "data": {
      "text/plain": [
       "(x + 3)*(x - 1)"
      ]
     },
     "execution_count": 23,
     "metadata": {},
     "output_type": "execute_result"
    }
   ],
   "source": [
    "exp2.factor()"
   ]
  },
  {
   "cell_type": "code",
   "execution_count": 24,
   "id": "amino-export",
   "metadata": {},
   "outputs": [],
   "source": [
    "exp3 = (y - 8)/(x^2 +1) == x^3 - 5"
   ]
  },
  {
   "cell_type": "code",
   "execution_count": 25,
   "id": "federal-guide",
   "metadata": {},
   "outputs": [
    {
     "data": {
      "text/html": [
       "<html><script type=\"math/tex; mode=display\">\\newcommand{\\Bold}[1]{\\mathbf{#1}}\\frac{y - 8}{x^{2} + 1} = x^{3} - 5</script></html>"
      ],
      "text/latex": [
       "\\begin{math}\n",
       "\\newcommand{\\Bold}[1]{\\mathbf{#1}}\\frac{y - 8}{x^{2} + 1} = x^{3} - 5\n",
       "\\end{math}"
      ],
      "text/plain": [
       "(y - 8)/(x^2 + 1) == x^3 - 5"
      ]
     },
     "metadata": {},
     "output_type": "display_data"
    }
   ],
   "source": [
    "exp3.show()"
   ]
  },
  {
   "cell_type": "code",
   "execution_count": 28,
   "id": "proper-liability",
   "metadata": {},
   "outputs": [
    {
     "data": {
      "text/html": [
       "<html><script type=\"math/tex; mode=display\">\\newcommand{\\Bold}[1]{\\mathbf{#1}}x^{3} - 5</script></html>"
      ],
      "text/latex": [
       "\\begin{math}\n",
       "\\newcommand{\\Bold}[1]{\\mathbf{#1}}x^{3} - 5\n",
       "\\end{math}"
      ],
      "text/plain": [
       "x^3 - 5"
      ]
     },
     "metadata": {},
     "output_type": "display_data"
    }
   ],
   "source": [
    "exp3.rhs().show()"
   ]
  },
  {
   "cell_type": "code",
   "execution_count": 31,
   "id": "advance-paint",
   "metadata": {},
   "outputs": [],
   "source": [
    "exp3a = exp3.multiply_both_sides(x^2+1)"
   ]
  },
  {
   "cell_type": "code",
   "execution_count": 36,
   "id": "sustained-trouble",
   "metadata": {},
   "outputs": [],
   "source": [
    "exp3b = exp3a.add_to_both_sides(8)"
   ]
  },
  {
   "cell_type": "code",
   "execution_count": 37,
   "id": "bizarre-jefferson",
   "metadata": {},
   "outputs": [
    {
     "data": {
      "text/plain": [
       "y == (x^3 - 5)*(x^2 + 1) + 8"
      ]
     },
     "execution_count": 37,
     "metadata": {},
     "output_type": "execute_result"
    }
   ],
   "source": [
    "exp3b"
   ]
  },
  {
   "cell_type": "code",
   "execution_count": 38,
   "id": "conditional-challenge",
   "metadata": {},
   "outputs": [
    {
     "data": {
      "text/plain": [
       "[y == x^5 + x^3 - 5*x^2 + 3]"
      ]
     },
     "execution_count": 38,
     "metadata": {},
     "output_type": "execute_result"
    }
   ],
   "source": [
    "solve(exp3,y)"
   ]
  },
  {
   "cell_type": "code",
   "execution_count": 39,
   "id": "understood-tyler",
   "metadata": {},
   "outputs": [
    {
     "data": {
      "text/plain": [
       "x^5 + x^3 - 5*x^2 + 3"
      ]
     },
     "execution_count": 39,
     "metadata": {},
     "output_type": "execute_result"
    }
   ],
   "source": [
    "exp3b.rhs().expand()"
   ]
  },
  {
   "cell_type": "code",
   "execution_count": 40,
   "id": "absolute-jerusalem",
   "metadata": {},
   "outputs": [],
   "source": [
    "exp4 = x^2 -2*x - 4 == 0"
   ]
  },
  {
   "cell_type": "code",
   "execution_count": 41,
   "id": "unexpected-bathroom",
   "metadata": {},
   "outputs": [
    {
     "data": {
      "text/plain": [
       "[x == -sqrt(5) + 1, x == sqrt(5) + 1]"
      ]
     },
     "execution_count": 41,
     "metadata": {},
     "output_type": "execute_result"
    }
   ],
   "source": [
    "solve(exp4,x)"
   ]
  },
  {
   "cell_type": "code",
   "execution_count": 42,
   "id": "distant-joint",
   "metadata": {},
   "outputs": [
    {
     "data": {
      "text/plain": [
       "(a, b, c)"
      ]
     },
     "execution_count": 42,
     "metadata": {},
     "output_type": "execute_result"
    }
   ],
   "source": [
    "var('a','b','c')"
   ]
  },
  {
   "cell_type": "code",
   "execution_count": 45,
   "id": "considered-slave",
   "metadata": {},
   "outputs": [
    {
     "data": {
      "text/html": [
       "<html><script type=\"math/tex; mode=display\">\\newcommand{\\Bold}[1]{\\mathbf{#1}}x = -\\frac{b + \\sqrt{b^{2} - 4 \\, a c}}{2 \\, a}</script></html>"
      ],
      "text/latex": [
       "\\begin{math}\n",
       "\\newcommand{\\Bold}[1]{\\mathbf{#1}}x = -\\frac{b + \\sqrt{b^{2} - 4 \\, a c}}{2 \\, a}\n",
       "\\end{math}"
      ],
      "text/plain": [
       "x == -1/2*(b + sqrt(b^2 - 4*a*c))/a"
      ]
     },
     "metadata": {},
     "output_type": "display_data"
    },
    {
     "data": {
      "text/html": [
       "<html><script type=\"math/tex; mode=display\">\\newcommand{\\Bold}[1]{\\mathbf{#1}}x = -\\frac{b - \\sqrt{b^{2} - 4 \\, a c}}{2 \\, a}</script></html>"
      ],
      "text/latex": [
       "\\begin{math}\n",
       "\\newcommand{\\Bold}[1]{\\mathbf{#1}}x = -\\frac{b - \\sqrt{b^{2} - 4 \\, a c}}{2 \\, a}\n",
       "\\end{math}"
      ],
      "text/plain": [
       "x == -1/2*(b - sqrt(b^2 - 4*a*c))/a"
      ]
     },
     "metadata": {},
     "output_type": "display_data"
    }
   ],
   "source": [
    "[x1, x2] = solve(a*x^2 + b*x + c == 0,x)\n",
    "x1.show()\n",
    "x2.show()"
   ]
  },
  {
   "cell_type": "code",
   "execution_count": 47,
   "id": "approved-sigma",
   "metadata": {},
   "outputs": [
    {
     "data": {
      "text/html": [
       "<html><script type=\"math/tex; mode=display\">\\newcommand{\\Bold}[1]{\\mathbf{#1}}\\frac{x + 1}{{\\left(x + 2\\right)}^{3} x^{2}}</script></html>"
      ],
      "text/latex": [
       "\\begin{math}\n",
       "\\newcommand{\\Bold}[1]{\\mathbf{#1}}\\frac{x + 1}{{\\left(x + 2\\right)}^{3} x^{2}}\n",
       "\\end{math}"
      ],
      "text/plain": [
       "(x + 1)/((x + 2)^3*x^2)"
      ]
     },
     "metadata": {},
     "output_type": "display_data"
    }
   ],
   "source": [
    "exp5 = (x+1)/(x^2*(x+2)^3)\n",
    "exp5.show()"
   ]
  },
  {
   "cell_type": "code",
   "execution_count": 49,
   "id": "worthy-ownership",
   "metadata": {},
   "outputs": [
    {
     "data": {
      "text/html": [
       "<html><script type=\"math/tex; mode=display\">\\newcommand{\\Bold}[1]{\\mathbf{#1}}\\frac{1}{{\\left(x^{3} + 6 \\, x^{2} + 12 \\, x + 8\\right)} x} + \\frac{1}{{\\left(x^{3} + 6 \\, x^{2} + 12 \\, x + 8\\right)} x^{2}}</script></html>"
      ],
      "text/latex": [
       "\\begin{math}\n",
       "\\newcommand{\\Bold}[1]{\\mathbf{#1}}\\frac{1}{{\\left(x^{3} + 6 \\, x^{2} + 12 \\, x + 8\\right)} x} + \\frac{1}{{\\left(x^{3} + 6 \\, x^{2} + 12 \\, x + 8\\right)} x^{2}}\n",
       "\\end{math}"
      ],
      "text/plain": [
       "1/((x^3 + 6*x^2 + 12*x + 8)*x) + 1/((x^3 + 6*x^2 + 12*x + 8)*x^2)"
      ]
     },
     "metadata": {},
     "output_type": "display_data"
    }
   ],
   "source": [
    "exp5.expand_rational().show()"
   ]
  },
  {
   "cell_type": "code",
   "execution_count": 50,
   "id": "final-tradition",
   "metadata": {},
   "outputs": [
    {
     "data": {
      "text/html": [
       "<html><script type=\"math/tex; mode=display\">\\newcommand{\\Bold}[1]{\\mathbf{#1}}\\frac{1}{16 \\, {\\left(x + 2\\right)}} - \\frac{1}{16 \\, x} + \\frac{1}{8 \\, x^{2}} - \\frac{1}{4 \\, {\\left(x + 2\\right)}^{3}}</script></html>"
      ],
      "text/latex": [
       "\\begin{math}\n",
       "\\newcommand{\\Bold}[1]{\\mathbf{#1}}\\frac{1}{16 \\, {\\left(x + 2\\right)}} - \\frac{1}{16 \\, x} + \\frac{1}{8 \\, x^{2}} - \\frac{1}{4 \\, {\\left(x + 2\\right)}^{3}}\n",
       "\\end{math}"
      ],
      "text/plain": [
       "1/16/(x + 2) - 1/16/x + 1/8/x^2 - 1/4/(x + 2)^3"
      ]
     },
     "metadata": {},
     "output_type": "display_data"
    }
   ],
   "source": [
    "exp5.partial_fraction().show()"
   ]
  },
  {
   "cell_type": "code",
   "execution_count": 51,
   "id": "seeing-elite",
   "metadata": {},
   "outputs": [
    {
     "data": {
      "text/html": [
       "<html><script type=\"math/tex; mode=display\">\\newcommand{\\Bold}[1]{\\mathbf{#1}}27 \\, t^{2} + \\frac{1}{3 \\, t} + \\cos\\left(3 \\, t\\right)</script></html>"
      ],
      "text/latex": [
       "\\begin{math}\n",
       "\\newcommand{\\Bold}[1]{\\mathbf{#1}}27 \\, t^{2} + \\frac{1}{3 \\, t} + \\cos\\left(3 \\, t\\right)\n",
       "\\end{math}"
      ],
      "text/plain": [
       "27*t^2 + 1/3/t + cos(3*t)"
      ]
     },
     "metadata": {},
     "output_type": "display_data"
    }
   ],
   "source": [
    "exp6 = 1/x + 3*x^2 + cos(x)\n",
    "var('t')\n",
    "exp6.substitute(x==3*t).show()"
   ]
  },
  {
   "cell_type": "code",
   "execution_count": 55,
   "id": "lightweight-sense",
   "metadata": {},
   "outputs": [
    {
     "data": {
      "text/html": [
       "<html><script type=\"math/tex; mode=display\">\\newcommand{\\Bold}[1]{\\mathbf{#1}}\\cos\\left(x\\right)^{2} \\sin\\left(x\\right)^{2} + \\sin\\left(y\\right)^{2}</script></html>"
      ],
      "text/latex": [
       "\\begin{math}\n",
       "\\newcommand{\\Bold}[1]{\\mathbf{#1}}\\cos\\left(x\\right)^{2} \\sin\\left(x\\right)^{2} + \\sin\\left(y\\right)^{2}\n",
       "\\end{math}"
      ],
      "text/plain": [
       "cos(x)^2*sin(x)^2 + sin(y)^2"
      ]
     },
     "metadata": {},
     "output_type": "display_data"
    }
   ],
   "source": [
    "exp7 = sin(x)^2*cos(x)^2 + sin(y)^2\n",
    "exp7.show()"
   ]
  },
  {
   "cell_type": "code",
   "execution_count": 58,
   "id": "textile-regard",
   "metadata": {},
   "outputs": [],
   "source": [
    "exp7a = exp7.trig_reduce()"
   ]
  },
  {
   "cell_type": "code",
   "execution_count": 59,
   "id": "operational-rocket",
   "metadata": {},
   "outputs": [
    {
     "data": {
      "text/html": [
       "<html><script type=\"math/tex; mode=display\">\\newcommand{\\Bold}[1]{\\mathbf{#1}}-\\cos\\left(x\\right)^{4} + \\cos\\left(x\\right)^{2} + \\sin\\left(y\\right)^{2}</script></html>"
      ],
      "text/latex": [
       "\\begin{math}\n",
       "\\newcommand{\\Bold}[1]{\\mathbf{#1}}-\\cos\\left(x\\right)^{4} + \\cos\\left(x\\right)^{2} + \\sin\\left(y\\right)^{2}\n",
       "\\end{math}"
      ],
      "text/plain": [
       "-cos(x)^4 + cos(x)^2 + sin(y)^2"
      ]
     },
     "metadata": {},
     "output_type": "display_data"
    }
   ],
   "source": [
    "exp7a.trig_simplify().show()"
   ]
  },
  {
   "cell_type": "code",
   "execution_count": 63,
   "id": "legitimate-leadership",
   "metadata": {},
   "outputs": [
    {
     "data": {
      "text/html": [
       "<html><script type=\"math/tex; mode=display\">\\newcommand{\\Bold}[1]{\\mathbf{#1}}\\log\\left(\\frac{x^{3} \\sin\\left(x\\right)^{2}}{\\sqrt{x^{2} + 1}}\\right)</script></html>"
      ],
      "text/latex": [
       "\\begin{math}\n",
       "\\newcommand{\\Bold}[1]{\\mathbf{#1}}\\log\\left(\\frac{x^{3} \\sin\\left(x\\right)^{2}}{\\sqrt{x^{2} + 1}}\\right)\n",
       "\\end{math}"
      ],
      "text/plain": [
       "log(x^3*sin(x)^2/sqrt(x^2 + 1))"
      ]
     },
     "metadata": {},
     "output_type": "display_data"
    }
   ],
   "source": [
    "exp8 = log((x^3*sin(x)^2)/sqrt(1+x^2))\n",
    "exp8.show()"
   ]
  },
  {
   "cell_type": "code",
   "execution_count": 64,
   "id": "adopted-alaska",
   "metadata": {},
   "outputs": [
    {
     "data": {
      "text/html": [
       "<html><script type=\"math/tex; mode=display\">\\newcommand{\\Bold}[1]{\\mathbf{#1}}-\\frac{1}{2} \\, \\log\\left(x^{2} + 1\\right) + 3 \\, \\log\\left(x\\right) + 2 \\, \\log\\left(\\sin\\left(x\\right)\\right)</script></html>"
      ],
      "text/latex": [
       "\\begin{math}\n",
       "\\newcommand{\\Bold}[1]{\\mathbf{#1}}-\\frac{1}{2} \\, \\log\\left(x^{2} + 1\\right) + 3 \\, \\log\\left(x\\right) + 2 \\, \\log\\left(\\sin\\left(x\\right)\\right)\n",
       "\\end{math}"
      ],
      "text/plain": [
       "-1/2*log(x^2 + 1) + 3*log(x) + 2*log(sin(x))"
      ]
     },
     "metadata": {},
     "output_type": "display_data"
    }
   ],
   "source": [
    "exp8.expand_log().show()"
   ]
  },
  {
   "cell_type": "code",
   "execution_count": 65,
   "id": "narrow-company",
   "metadata": {},
   "outputs": [
    {
     "data": {
      "text/html": [
       "<html><script type=\"math/tex; mode=display\">\\newcommand{\\Bold}[1]{\\mathbf{#1}}\\frac{\\sqrt{x^{2} + x}}{\\sqrt{x}}</script></html>"
      ],
      "text/latex": [
       "\\begin{math}\n",
       "\\newcommand{\\Bold}[1]{\\mathbf{#1}}\\frac{\\sqrt{x^{2} + x}}{\\sqrt{x}}\n",
       "\\end{math}"
      ],
      "text/plain": [
       "sqrt(x^2 + x)/sqrt(x)"
      ]
     },
     "metadata": {},
     "output_type": "display_data"
    }
   ],
   "source": [
    "exp9 = sqrt(x^2+x)/sqrt(x)\n",
    "exp9.show()"
   ]
  },
  {
   "cell_type": "code",
   "execution_count": 66,
   "id": "allied-reference",
   "metadata": {},
   "outputs": [
    {
     "data": {
      "text/html": [
       "<html><script type=\"math/tex; mode=display\">\\newcommand{\\Bold}[1]{\\mathbf{#1}}\\sqrt{x + 1}</script></html>"
      ],
      "text/latex": [
       "\\begin{math}\n",
       "\\newcommand{\\Bold}[1]{\\mathbf{#1}}\\sqrt{x + 1}\n",
       "\\end{math}"
      ],
      "text/plain": [
       "sqrt(x + 1)"
      ]
     },
     "metadata": {},
     "output_type": "display_data"
    }
   ],
   "source": [
    "exp9.canonicalize_radical().show()"
   ]
  },
  {
   "cell_type": "code",
   "execution_count": 67,
   "id": "seven-tuner",
   "metadata": {},
   "outputs": [
    {
     "data": {
      "text/plain": [
       "2.71828182845905"
      ]
     },
     "execution_count": 67,
     "metadata": {},
     "output_type": "execute_result"
    }
   ],
   "source": [
    "e.n()"
   ]
  },
  {
   "cell_type": "code",
   "execution_count": 68,
   "id": "mechanical-communication",
   "metadata": {},
   "outputs": [
    {
     "data": {
      "text/plain": [
       "3.14159265358979"
      ]
     },
     "execution_count": 68,
     "metadata": {},
     "output_type": "execute_result"
    }
   ],
   "source": [
    "pi.n()"
   ]
  },
  {
   "cell_type": "code",
   "execution_count": 76,
   "id": "express-consistency",
   "metadata": {},
   "outputs": [
    {
     "data": {
      "text/plain": [
       "3.1415926535897932385"
      ]
     },
     "execution_count": 76,
     "metadata": {},
     "output_type": "execute_result"
    }
   ],
   "source": [
    "pi.n(digits=20)"
   ]
  },
  {
   "cell_type": "code",
   "execution_count": 80,
   "id": "absolute-exception",
   "metadata": {},
   "outputs": [
    {
     "data": {
      "image/png": "[encoded data removed]",
      "text/plain": [
       "Graphics object consisting of 1 graphics primitive"
      ]
     },
     "execution_count": 80,
     "metadata": {},
     "output_type": "execute_result"
    }
   ],
   "source": [
    "plot(sin(x)*exp(-x),(x,0,3*pi),frame=True)"
   ]
  },
  {
   "cell_type": "code",
   "execution_count": 85,
   "id": "optical-multimedia",
   "metadata": {},
   "outputs": [
    {
     "data": {
      "image/png": "[encoded data removed]",
      "text/plain": [
       "Graphics object consisting of 2 graphics primitives"
      ]
     },
     "execution_count": 85,
     "metadata": {},
     "output_type": "execute_result"
    }
   ],
   "source": [
    "plot(1-exp(-x^3),(x,0,5), color='red') + plot(1-exp(-x^3),(x,0,5), color='blue')"
   ]
  },
  {
   "cell_type": "code",
   "execution_count": 87,
   "id": "transsexual-success",
   "metadata": {},
   "outputs": [
    {
     "data": {
      "text/plain": [
       "(mu, x1)"
      ]
     },
     "execution_count": 87,
     "metadata": {},
     "output_type": "execute_result"
    }
   ],
   "source": [
    "var('mu, x1')"
   ]
  },
  {
   "cell_type": "code",
   "execution_count": 88,
   "id": "alleged-construction",
   "metadata": {},
   "outputs": [
    {
     "data": {
      "text/html": [
       "<html><script type=\"math/tex; mode=display\">\\newcommand{\\Bold}[1]{\\mathbf{#1}}\\mu</script></html>"
      ],
      "text/latex": [
       "\\begin{math}\n",
       "\\newcommand{\\Bold}[1]{\\mathbf{#1}}\\mu\n",
       "\\end{math}"
      ],
      "text/plain": [
       "mu"
      ]
     },
     "metadata": {},
     "output_type": "display_data"
    }
   ],
   "source": [
    "mu.show()"
   ]
  },
  {
   "cell_type": "code",
   "execution_count": 89,
   "id": "ordinary-egyptian",
   "metadata": {},
   "outputs": [
    {
     "data": {
      "text/html": [
       "<html><script type=\"math/tex; mode=display\">\\newcommand{\\Bold}[1]{\\mathbf{#1}}x_{1}</script></html>"
      ],
      "text/latex": [
       "\\begin{math}\n",
       "\\newcommand{\\Bold}[1]{\\mathbf{#1}}x_{1}\n",
       "\\end{math}"
      ],
      "text/plain": [
       "x1"
      ]
     },
     "metadata": {},
     "output_type": "display_data"
    }
   ],
   "source": [
    "x1.show()"
   ]
  },
  {
   "cell_type": "code",
   "execution_count": 92,
   "id": "interracial-spell",
   "metadata": {},
   "outputs": [
    {
     "data": {
      "text/html": [
       "<html><script type=\"math/tex; mode=display\">\\newcommand{\\Bold}[1]{\\mathbf{#1}}{\\Delta G^\\alpha_0}</script></html>"
      ],
      "text/latex": [
       "\\begin{math}\n",
       "\\newcommand{\\Bold}[1]{\\mathbf{#1}}{\\Delta G^\\alpha_0}\n",
       "\\end{math}"
      ],
      "text/plain": [
       "DG"
      ]
     },
     "metadata": {},
     "output_type": "display_data"
    }
   ],
   "source": [
    "var('DG', latex_name='\\\\Delta G^\\\\alpha_0')\n",
    "DG.show()"
   ]
  },
  {
   "cell_type": "code",
   "execution_count": 95,
   "id": "painful-equality",
   "metadata": {},
   "outputs": [
    {
     "data": {
      "text/html": [
       "<html><script type=\"math/tex; mode=display\">\\newcommand{\\Bold}[1]{\\mathbf{#1}}{\\Delta G^\\alpha_0} = 52.3000000000000</script></html>"
      ],
      "text/latex": [
       "\\begin{math}\n",
       "\\newcommand{\\Bold}[1]{\\mathbf{#1}}{\\Delta G^\\alpha_0} = 52.3000000000000\n",
       "\\end{math}"
      ],
      "text/plain": [
       "DG == 52.3000000000000"
      ]
     },
     "metadata": {},
     "output_type": "display_data"
    }
   ],
   "source": [
    "eqn2 = DG == 52.3\n",
    "eqn2.show()"
   ]
  },
  {
   "cell_type": "code",
   "execution_count": 98,
   "id": "paperback-library",
   "metadata": {},
   "outputs": [
    {
     "data": {
      "text/html": [
       "<html><script type=\"math/tex; mode=display\">\\newcommand{\\Bold}[1]{\\mathbf{#1}}-{\\left(x^{2} - 2\\right)} \\cos\\left(x\\right) + 2 \\, x \\sin\\left(x\\right) + 3 \\, \\log\\left(\\sec\\left(x\\right)\\right)</script></html>"
      ],
      "text/latex": [
       "\\begin{math}\n",
       "\\newcommand{\\Bold}[1]{\\mathbf{#1}}-{\\left(x^{2} - 2\\right)} \\cos\\left(x\\right) + 2 \\, x \\sin\\left(x\\right) + 3 \\, \\log\\left(\\sec\\left(x\\right)\\right)\n",
       "\\end{math}"
      ],
      "text/plain": [
       "-(x^2 - 2)*cos(x) + 2*x*sin(x) + 3*log(sec(x))"
      ]
     },
     "metadata": {},
     "output_type": "display_data"
    }
   ],
   "source": [
    "expla1 =integrate(3*tan(x)+sin(x)*x^2,x)\n",
    "expla1.show()"
   ]
  },
  {
   "cell_type": "code",
   "execution_count": 99,
   "id": "moral-mainland",
   "metadata": {},
   "outputs": [
    {
     "data": {
      "text/plain": [
       "(x^2 - 2)*sin(x) + 2*sin(x) + 3*tan(x)"
      ]
     },
     "execution_count": 99,
     "metadata": {},
     "output_type": "execute_result"
    }
   ],
   "source": [
    "expla1.diff()"
   ]
  },
  {
   "cell_type": "code",
   "execution_count": 100,
   "id": "concrete-adapter",
   "metadata": {},
   "outputs": [
    {
     "data": {
      "text/plain": [
       "1/2*sqrt(pi)*erf(x)"
      ]
     },
     "execution_count": 100,
     "metadata": {},
     "output_type": "execute_result"
    }
   ],
   "source": [
    "integrate(exp(-x^2),x)"
   ]
  },
  {
   "cell_type": "code",
   "execution_count": 101,
   "id": "improved-publicity",
   "metadata": {},
   "outputs": [
    {
     "data": {
      "text/plain": [
       "2*e^(-x^2)/sqrt(pi)"
      ]
     },
     "execution_count": 101,
     "metadata": {},
     "output_type": "execute_result"
    }
   ],
   "source": [
    "erf(x).diff()"
   ]
  },
  {
   "cell_type": "code",
   "execution_count": 102,
   "id": "finite-marshall",
   "metadata": {},
   "outputs": [
    {
     "data": {
      "text/plain": [
       "1"
      ]
     },
     "execution_count": 102,
     "metadata": {},
     "output_type": "execute_result"
    }
   ],
   "source": [
    "erf(x).subs(x==oo)"
   ]
  },
  {
   "cell_type": "code",
   "execution_count": 103,
   "id": "ranging-family",
   "metadata": {},
   "outputs": [
    {
     "data": {
      "text/plain": [
       "-1/2*I*Ei(I*x) + 1/2*I*Ei(-I*x)"
      ]
     },
     "execution_count": 103,
     "metadata": {},
     "output_type": "execute_result"
    }
   ],
   "source": [
    "integrate(sin(x)/x,x)"
   ]
  },
  {
   "cell_type": "code",
   "execution_count": 104,
   "id": "vital-sponsorship",
   "metadata": {},
   "outputs": [
    {
     "name": "stdout",
     "output_type": "stream",
     "text": [
      "Help on Function_exp_integral in module sage.functions.exp_integral object:\n",
      "\n",
      "class Function_exp_integral(sage.symbolic.function.BuiltinFunction)\n",
      " |  The generalized complex exponential integral Ei(z) defined by\n",
      " |  \n",
      " |  .. MATH::\n",
      " |  \n",
      " |      \\operatorname{Ei}(x) = \\int_{-\\infty}^x \\frac{e^t}{t} \\; dt\n",
      " |  \n",
      " |  for x > 0 and for complex arguments by analytic continuation,\n",
      " |  see [AS1964]_ 5.1.2.\n",
      " |  \n",
      " |  EXAMPLES::\n",
      " |  \n",
      " |      sage: Ei(10)\n",
      " |      Ei(10)\n",
      " |      sage: Ei(I)\n",
      " |      Ei(I)\n",
      " |      sage: Ei(3+I)\n",
      " |      Ei(I + 3)\n",
      " |      sage: Ei(1.3)\n",
      " |      2.72139888023202\n",
      " |      sage: Ei(10r)\n",
      " |      Ei(10)\n",
      " |      sage: Ei(1.3r)\n",
      " |      2.7213988802320235\n",
      " |  \n",
      " |  The branch cut for this function is along the negative real axis::\n",
      " |  \n",
      " |      sage: Ei(-3 + 0.1*I)\n",
      " |      -0.0129379427181693 + 3.13993830250942*I\n",
      " |      sage: Ei(-3 - 0.1*I)\n",
      " |      -0.0129379427181693 - 3.13993830250942*I\n",
      " |  \n",
      " |  The precision for the result is deduced from the precision of the\n",
      " |  input. Convert the input to a higher precision explicitly if a\n",
      " |  result with higher precision is desired::\n",
      " |  \n",
      " |      sage: Ei(RealField(300)(1.1))\n",
      " |      2.16737827956340282358378734233807621497112737591639704719499002090327541763352339357795426\n",
      " |  \n",
      " |  ALGORITHM: Uses mpmath.\n",
      " |  \n",
      " |  TESTS:\n",
      " |  \n",
      " |  Show that the evaluation and limit issue in :trac:`13271` is fixed::\n",
      " |  \n",
      " |      sage: var('Z')\n",
      " |      Z\n",
      " |      sage: (Ei(-Z)).limit(Z=oo)\n",
      " |      0\n",
      " |      sage: (Ei(-Z)).limit(Z=1000)\n",
      " |      Ei(-1000)\n",
      " |      sage: (Ei(-Z)).limit(Z=1000).n()\n",
      " |      -5.07089306023517e-438\n",
      " |  \n",
      " |  Method resolution order:\n",
      " |      Function_exp_integral\n",
      " |      sage.symbolic.function.BuiltinFunction\n",
      " |      sage.symbolic.function.Function\n",
      " |      sage.structure.sage_object.SageObject\n",
      " |      builtins.object\n",
      " |  \n",
      " |  Methods defined here:\n",
      " |  \n",
      " |  __init__(self)\n",
      " |      TESTS::\n",
      " |      \n",
      " |          sage: Ei(10)\n",
      " |          Ei(10)\n",
      " |          sage: Ei(x)._sympy_()\n",
      " |          Ei(x)\n",
      " |  \n",
      " |  ----------------------------------------------------------------------\n",
      " |  Data descriptors defined here:\n",
      " |  \n",
      " |  __dict__\n",
      " |      dictionary for instance variables (if defined)\n",
      " |  \n",
      " |  __weakref__\n",
      " |      list of weak references to the object (if defined)\n",
      " |  \n",
      " |  ----------------------------------------------------------------------\n",
      " |  Methods inherited from sage.symbolic.function.BuiltinFunction:\n",
      " |  \n",
      " |  __call__(...)\n",
      " |      File: sage/symbolic/function.pyx (starting at line 1048)\n",
      " |      \n",
      " |      Evaluate this function on the given arguments and return the result.\n",
      " |      \n",
      " |      EXAMPLES::\n",
      " |      \n",
      " |          sage: exp(5)\n",
      " |          e^5\n",
      " |          sage: gamma(15)\n",
      " |          87178291200\n",
      " |      \n",
      " |      Python float, Python complex, mpmath mpf and mpc as well as numpy inputs\n",
      " |      are sent to the relevant ``math``, ``cmath``, ``mpmath`` or ``numpy``\n",
      " |      function::\n",
      " |      \n",
      " |          sage: cos(1.r)\n",
      " |          0.5403023058681398\n",
      " |          sage: assert type(_) is float\n",
      " |          sage: gamma(4.r)\n",
      " |          6.0\n",
      " |          sage: assert type(_) is float\n",
      " |      \n",
      " |          sage: cos(1jr)  # abstol 1e-15\n",
      " |          (1.5430806348152437-0j)\n",
      " |          sage: assert type(_) is complex\n",
      " |      \n",
      " |          sage: import mpmath\n",
      " |          sage: cos(mpmath.mpf('1.321412'))\n",
      " |          mpf('0.24680737898640387')\n",
      " |          sage: cos(mpmath.mpc(1,1))\n",
      " |          mpc(real='0.83373002513114902', imag='-0.98889770576286506')\n",
      " |      \n",
      " |          sage: import numpy\n",
      " |          sage: sin(numpy.int32(0))\n",
      " |          0.0\n",
      " |          sage: type(_)\n",
      " |          <type 'numpy.float64'>\n",
      " |      \n",
      " |      TESTS::\n",
      " |      \n",
      " |          sage: from sage.symbolic.function import BuiltinFunction\n",
      " |          sage: class A:\n",
      " |          ....:     def foo(self):\n",
      " |          ....:         return 'foo'\n",
      " |          sage: foo = BuiltinFunction(name='foo')\n",
      " |          sage: foo(A())\n",
      " |          'foo'\n",
      " |          sage: bar = BuiltinFunction(name='bar', alt_name='foo')\n",
      " |          sage: bar(A())\n",
      " |          'foo'\n",
      " |  \n",
      " |  __reduce__(...)\n",
      " |      BuiltinFunction.__reduce__(self)\n",
      " |      File: sage/symbolic/function.pyx (starting at line 1246)\n",
      " |      \n",
      " |              EXAMPLES::\n",
      " |      \n",
      " |                  sage: cot.__reduce__()\n",
      " |                  (<class 'sage.functions.trig.Function_cot'>, ())\n",
      " |      \n",
      " |                  sage: f = loads(dumps(cot)) #indirect doctest\n",
      " |                  sage: f(pi/2)\n",
      " |                  0\n",
      " |  \n",
      " |  __setstate__(...)\n",
      " |      BuiltinFunction.__setstate__(self, state)\n",
      " |      File: sage/symbolic/function.pyx (starting at line 1260)\n",
      " |      \n",
      " |              EXAMPLES::\n",
      " |      \n",
      " |                  sage: cot.__setstate__([1,0])\n",
      " |                  Traceback (most recent call last):\n",
      " |                  ...\n",
      " |                  ValueError: cannot read pickle\n",
      " |                  sage: cot.__setstate__([0]) #don't try this at home\n",
      " |  \n",
      " |  ----------------------------------------------------------------------\n",
      " |  Static methods inherited from sage.symbolic.function.BuiltinFunction:\n",
      " |  \n",
      " |  __new__(*args, **kwargs) from builtins.type\n",
      " |      Create and return a new object.  See help(type) for accurate signature.\n",
      " |  \n",
      " |  ----------------------------------------------------------------------\n",
      " |  Data and other attributes inherited from sage.symbolic.function.BuiltinFunction:\n",
      " |  \n",
      " |  __pyx_vtable__ = <capsule object NULL>\n",
      " |  \n",
      " |  ----------------------------------------------------------------------\n",
      " |  Methods inherited from sage.symbolic.function.Function:\n",
      " |  \n",
      " |  __eq__(self, value, /)\n",
      " |      Return self==value.\n",
      " |  \n",
      " |  __ge__(self, value, /)\n",
      " |      Return self>=value.\n",
      " |  \n",
      " |  __gt__(self, value, /)\n",
      " |      Return self>value.\n",
      " |  \n",
      " |  __hash__(...)\n",
      " |      File: sage/symbolic/function.pyx (starting at line 376)\n",
      " |      \n",
      " |      EXAMPLES::\n",
      " |      \n",
      " |          sage: f = function('f', nargs=1, conjugate_func=lambda self,x: 2r*x)\n",
      " |          sage: f.__hash__() #random\n",
      " |          -2224334885124003860\n",
      " |          sage: hash(f(2)) #random\n",
      " |          4168614485\n",
      " |  \n",
      " |  __le__(self, value, /)\n",
      " |      Return self<=value.\n",
      " |  \n",
      " |  __lt__(self, value, /)\n",
      " |      Return self<value.\n",
      " |  \n",
      " |  __ne__(self, value, /)\n",
      " |      Return self!=value.\n",
      " |  \n",
      " |  __repr__(...)\n",
      " |      File: sage/symbolic/function.pyx (starting at line 388)\n",
      " |      \n",
      " |      EXAMPLES::\n",
      " |      \n",
      " |          sage: foo = function(\"foo\", nargs=2); foo\n",
      " |          foo\n",
      " |  \n",
      " |  default_variable(...)\n",
      " |      Function.default_variable(self)\n",
      " |      File: sage/symbolic/function.pyx (starting at line 657)\n",
      " |      \n",
      " |              Returns a default variable.\n",
      " |      \n",
      " |              EXAMPLES::\n",
      " |      \n",
      " |                  sage: sin.default_variable()\n",
      " |                  x\n",
      " |  \n",
      " |  name(...)\n",
      " |      Function.name(self)\n",
      " |      File: sage/symbolic/function.pyx (starting at line 614)\n",
      " |      \n",
      " |              Returns the name of this function.\n",
      " |      \n",
      " |              EXAMPLES::\n",
      " |      \n",
      " |                  sage: foo = function(\"foo\", nargs=2)\n",
      " |                  sage: foo.name()\n",
      " |                  'foo'\n",
      " |  \n",
      " |  number_of_arguments(...)\n",
      " |      Function.number_of_arguments(self)\n",
      " |      File: sage/symbolic/function.pyx (starting at line 626)\n",
      " |      \n",
      " |              Returns the number of arguments that this function takes.\n",
      " |      \n",
      " |              EXAMPLES::\n",
      " |      \n",
      " |                  sage: foo = function(\"foo\", nargs=2)\n",
      " |                  sage: foo.number_of_arguments()\n",
      " |                  2\n",
      " |                  sage: foo(x,x)\n",
      " |                  foo(x, x)\n",
      " |      \n",
      " |                  sage: foo(x)\n",
      " |                  Traceback (most recent call last):\n",
      " |                  ...\n",
      " |                  TypeError: Symbolic function foo takes exactly 2 arguments (1 given)\n",
      " |  \n",
      " |  variables(...)\n",
      " |      Function.variables(self)\n",
      " |      File: sage/symbolic/function.pyx (starting at line 645)\n",
      " |      \n",
      " |              Returns the variables (of which there are none) present in\n",
      " |              this SFunction.\n",
      " |      \n",
      " |              EXAMPLES::\n",
      " |      \n",
      " |                  sage: sin.variables()\n",
      " |                  ()\n",
      " |  \n",
      " |  ----------------------------------------------------------------------\n",
      " |  Methods inherited from sage.structure.sage_object.SageObject:\n",
      " |  \n",
      " |  __pari__(...)\n",
      " |      SageObject.__pari__(self)\n",
      " |      File: sage/structure/sage_object.pyx (starting at line 938)\n",
      " |  \n",
      " |  category(...)\n",
      " |      SageObject.category(self)\n",
      " |      File: sage/structure/sage_object.pyx (starting at line 482)\n",
      " |  \n",
      " |  dump(...)\n",
      " |      SageObject.dump(self, filename, compress=True)\n",
      " |      File: sage/structure/sage_object.pyx (starting at line 443)\n",
      " |      \n",
      " |              Same as self.save(filename, compress)\n",
      " |  \n",
      " |  dumps(...)\n",
      " |      SageObject.dumps(self, compress=True)\n",
      " |      File: sage/structure/sage_object.pyx (starting at line 449)\n",
      " |      \n",
      " |              Dump ``self`` to a string ``s``, which can later be reconstituted\n",
      " |              as ``self`` using ``loads(s)``.\n",
      " |      \n",
      " |              There is an optional boolean argument ``compress`` which defaults to ``True``.\n",
      " |      \n",
      " |              EXAMPLES::\n",
      " |      \n",
      " |                  sage: from sage.misc.persist import comp\n",
      " |                  sage: O = SageObject()\n",
      " |                  sage: p_comp = O.dumps()\n",
      " |                  sage: p_uncomp = O.dumps(compress=False)\n",
      " |                  sage: comp.decompress(p_comp) == p_uncomp\n",
      " |                  True\n",
      " |                  sage: import pickletools\n",
      " |                  sage: pickletools.dis(p_uncomp)\n",
      " |                      0: \\x80 PROTO      2\n",
      " |                      2: c    GLOBAL     'sage.structure.sage_object SageObject'\n",
      " |                     41: q    BINPUT     ...\n",
      " |                     43: )    EMPTY_TUPLE\n",
      " |                     44: \\x81 NEWOBJ\n",
      " |                     45: q    BINPUT     ...\n",
      " |                     47: .    STOP\n",
      " |                  highest protocol among opcodes = 2\n",
      " |  \n",
      " |  parent(...)\n",
      " |      SageObject.parent(self)\n",
      " |      File: sage/structure/sage_object.pyx (starting at line 516)\n",
      " |      \n",
      " |              Return the type of ``self`` to support the coercion framework.\n",
      " |      \n",
      " |              EXAMPLES::\n",
      " |      \n",
      " |                  sage: t = log(sqrt(2) - 1) + log(sqrt(2) + 1); t\n",
      " |                  log(sqrt(2) + 1) + log(sqrt(2) - 1)\n",
      " |                  sage: u = t.maxima_methods()\n",
      " |                  sage: u.parent()\n",
      " |                  <class 'sage.symbolic.maxima_wrapper.MaximaWrapper'>\n",
      " |  \n",
      " |  rename(...)\n",
      " |      SageObject.rename(self, x=None)\n",
      " |      File: sage/structure/sage_object.pyx (starting at line 68)\n",
      " |      \n",
      " |              Change self so it prints as x, where x is a string.\n",
      " |      \n",
      " |              .. NOTE::\n",
      " |      \n",
      " |                 This is *only* supported for Python classes that derive\n",
      " |                 from SageObject.\n",
      " |      \n",
      " |              EXAMPLES::\n",
      " |      \n",
      " |                  sage: x = PolynomialRing(QQ, 'x', sparse=True).gen()\n",
      " |                  sage: g = x^3 + x - 5\n",
      " |                  sage: g\n",
      " |                  x^3 + x - 5\n",
      " |                  sage: g.rename('a polynomial')\n",
      " |                  sage: g\n",
      " |                  a polynomial\n",
      " |                  sage: g + x\n",
      " |                  x^3 + 2*x - 5\n",
      " |                  sage: h = g^100\n",
      " |                  sage: str(h)[:20]\n",
      " |                  'x^300 + 100*x^298 - '\n",
      " |                  sage: h.rename('x^300 + ...')\n",
      " |                  sage: h\n",
      " |                  x^300 + ...\n",
      " |      \n",
      " |              Real numbers are not Python classes, so rename is not supported::\n",
      " |      \n",
      " |                  sage: a = 3.14\n",
      " |                  sage: type(a)\n",
      " |                  <... 'sage.rings.real_mpfr.RealLiteral'>\n",
      " |                  sage: a.rename('pi')\n",
      " |                  Traceback (most recent call last):\n",
      " |                  ...\n",
      " |                  NotImplementedError: object does not support renaming: 3.14000000000000\n",
      " |      \n",
      " |              .. NOTE::\n",
      " |      \n",
      " |                 The reason C-extension types are not supported by default\n",
      " |                 is if they were then every single one would have to carry\n",
      " |                 around an extra attribute, which would be slower and waste\n",
      " |                 a lot of memory.\n",
      " |      \n",
      " |                 To support them for a specific class, add a\n",
      " |                 ``cdef public __custom_name`` attribute.\n",
      " |  \n",
      " |  reset_name(...)\n",
      " |      SageObject.reset_name(self)\n",
      " |      File: sage/structure/sage_object.pyx (starting at line 125)\n",
      " |      \n",
      " |              Remove the custom name of an object.\n",
      " |      \n",
      " |              EXAMPLES::\n",
      " |      \n",
      " |                  sage: P.<x> = QQ[]\n",
      " |                  sage: P\n",
      " |                  Univariate Polynomial Ring in x over Rational Field\n",
      " |                  sage: P.rename('A polynomial ring')\n",
      " |                  sage: P\n",
      " |                  A polynomial ring\n",
      " |                  sage: P.reset_name()\n",
      " |                  sage: P\n",
      " |                  Univariate Polynomial Ring in x over Rational Field\n",
      " |  \n",
      " |  save(...)\n",
      " |      SageObject.save(self, filename=None, compress=True)\n",
      " |      File: sage/structure/sage_object.pyx (starting at line 418)\n",
      " |      \n",
      " |              Save self to the given filename.\n",
      " |      \n",
      " |              EXAMPLES::\n",
      " |      \n",
      " |                  sage: f = x^3 + 5\n",
      " |                  sage: f.save(os.path.join(SAGE_TMP, 'file'))\n",
      " |                  sage: load(os.path.join(SAGE_TMP, 'file.sobj'))\n",
      " |                  x^3 + 5\n",
      "\n"
     ]
    }
   ],
   "source": [
    "help(Ei)"
   ]
  },
  {
   "cell_type": "code",
   "execution_count": 106,
   "id": "valuable-transsexual",
   "metadata": {},
   "outputs": [
    {
     "data": {
      "image/png": "[encoded data removed]",
      "text/plain": [
       "Graphics object consisting of 1 graphics primitive"
      ]
     },
     "execution_count": 106,
     "metadata": {},
     "output_type": "execute_result"
    }
   ],
   "source": [
    "plot(erf(x)\n",
    "    ,(x,0,5))"
   ]
  },
  {
   "cell_type": "code",
   "execution_count": 108,
   "id": "alive-spotlight",
   "metadata": {},
   "outputs": [
    {
     "data": {
      "text/html": [
       "<html><script type=\"math/tex; mode=display\">\\newcommand{\\Bold}[1]{\\mathbf{#1}}x = \\frac{1}{4} \\, \\left(-1\\right)^{\\frac{1}{5}} {\\left(\\sqrt{5} + i \\, \\sqrt{2 \\, \\sqrt{5} + 10} - 1\\right)}</script></html>"
      ],
      "text/latex": [
       "\\begin{math}\n",
       "\\newcommand{\\Bold}[1]{\\mathbf{#1}}x = \\frac{1}{4} \\, \\left(-1\\right)^{\\frac{1}{5}} {\\left(\\sqrt{5} + i \\, \\sqrt{2 \\, \\sqrt{5} + 10} - 1\\right)}\n",
       "\\end{math}"
      ],
      "text/plain": [
       "x == 1/4*(-1)^(1/5)*(sqrt(5) + I*sqrt(2*sqrt(5) + 10) - 1)"
      ]
     },
     "metadata": {},
     "output_type": "display_data"
    },
    {
     "data": {
      "text/html": [
       "<html><script type=\"math/tex; mode=display\">\\newcommand{\\Bold}[1]{\\mathbf{#1}}x = -\\frac{1}{4} \\, \\left(-1\\right)^{\\frac{1}{5}} {\\left(\\sqrt{5} - i \\, \\sqrt{-2 \\, \\sqrt{5} + 10} + 1\\right)}</script></html>"
      ],
      "text/latex": [
       "\\begin{math}\n",
       "\\newcommand{\\Bold}[1]{\\mathbf{#1}}x = -\\frac{1}{4} \\, \\left(-1\\right)^{\\frac{1}{5}} {\\left(\\sqrt{5} - i \\, \\sqrt{-2 \\, \\sqrt{5} + 10} + 1\\right)}\n",
       "\\end{math}"
      ],
      "text/plain": [
       "x == -1/4*(-1)^(1/5)*(sqrt(5) - I*sqrt(-2*sqrt(5) + 10) + 1)"
      ]
     },
     "metadata": {},
     "output_type": "display_data"
    },
    {
     "data": {
      "text/html": [
       "<html><script type=\"math/tex; mode=display\">\\newcommand{\\Bold}[1]{\\mathbf{#1}}x = -\\frac{1}{4} \\, \\left(-1\\right)^{\\frac{1}{5}} {\\left(\\sqrt{5} + i \\, \\sqrt{-2 \\, \\sqrt{5} + 10} + 1\\right)}</script></html>"
      ],
      "text/latex": [
       "\\begin{math}\n",
       "\\newcommand{\\Bold}[1]{\\mathbf{#1}}x = -\\frac{1}{4} \\, \\left(-1\\right)^{\\frac{1}{5}} {\\left(\\sqrt{5} + i \\, \\sqrt{-2 \\, \\sqrt{5} + 10} + 1\\right)}\n",
       "\\end{math}"
      ],
      "text/plain": [
       "x == -1/4*(-1)^(1/5)*(sqrt(5) + I*sqrt(-2*sqrt(5) + 10) + 1)"
      ]
     },
     "metadata": {},
     "output_type": "display_data"
    },
    {
     "data": {
      "text/html": [
       "<html><script type=\"math/tex; mode=display\">\\newcommand{\\Bold}[1]{\\mathbf{#1}}x = \\frac{1}{4} \\, \\left(-1\\right)^{\\frac{1}{5}} {\\left(\\sqrt{5} - i \\, \\sqrt{2 \\, \\sqrt{5} + 10} - 1\\right)}</script></html>"
      ],
      "text/latex": [
       "\\begin{math}\n",
       "\\newcommand{\\Bold}[1]{\\mathbf{#1}}x = \\frac{1}{4} \\, \\left(-1\\right)^{\\frac{1}{5}} {\\left(\\sqrt{5} - i \\, \\sqrt{2 \\, \\sqrt{5} + 10} - 1\\right)}\n",
       "\\end{math}"
      ],
      "text/plain": [
       "x == 1/4*(-1)^(1/5)*(sqrt(5) - I*sqrt(2*sqrt(5) + 10) - 1)"
      ]
     },
     "metadata": {},
     "output_type": "display_data"
    },
    {
     "data": {
      "text/html": [
       "<html><script type=\"math/tex; mode=display\">\\newcommand{\\Bold}[1]{\\mathbf{#1}}x = \\left(-1\\right)^{\\frac{1}{5}}</script></html>"
      ],
      "text/latex": [
       "\\begin{math}\n",
       "\\newcommand{\\Bold}[1]{\\mathbf{#1}}x = \\left(-1\\right)^{\\frac{1}{5}}\n",
       "\\end{math}"
      ],
      "text/plain": [
       "x == (-1)^(1/5)"
      ]
     },
     "metadata": {},
     "output_type": "display_data"
    }
   ],
   "source": [
    "[x1,x2,x3,x4,x5] = solve(x^5 + 1 == 0,x)\n",
    "x1.show()\n",
    "x2.show()\n",
    "x3.show()\n",
    "x4.show()\n",
    "x5.show()"
   ]
  },
  {
   "cell_type": "code",
   "execution_count": 2,
   "id": "comfortable-transfer",
   "metadata": {},
   "outputs": [],
   "source": [
    "exp1 = sin(x)/x"
   ]
  },
  {
   "cell_type": "code",
   "execution_count": 3,
   "id": "established-russia",
   "metadata": {},
   "outputs": [
    {
     "data": {
      "text/plain": [
       "1"
      ]
     },
     "execution_count": 3,
     "metadata": {},
     "output_type": "execute_result"
    }
   ],
   "source": [
    "exp1.limit(x=0)"
   ]
  },
  {
   "cell_type": "code",
   "execution_count": 4,
   "id": "exclusive-groove",
   "metadata": {},
   "outputs": [
    {
     "data": {
      "text/html": [
       "<html><script type=\"math/tex; mode=display\">\\newcommand{\\Bold}[1]{\\mathbf{#1}}\\operatorname{Si}\\left(\\frac{3}{2} \\, \\pi\\right)</script></html>"
      ],
      "text/latex": [
       "\\begin{math}\n",
       "\\newcommand{\\Bold}[1]{\\mathbf{#1}}\\operatorname{Si}\\left(\\frac{3}{2} \\, \\pi\\right)\n",
       "\\end{math}"
      ],
      "text/plain": [
       "sin_integral(3/2*pi)"
      ]
     },
     "metadata": {},
     "output_type": "display_data"
    }
   ],
   "source": [
    "r = integral(exp1,(x,0,3*pi/2))\n",
    "r.show()"
   ]
  }
 ],
 "metadata": {
  "kernelspec": {
   "display_name": "SageMath 9.2",
   "language": "sage",
   "name": "sagemath"
  },
  "language_info": {
   "codemirror_mode": {
    "name": "ipython",
    "version": 3
   },
   "file_extension": ".py",
   "mimetype": "text/x-python",
   "name": "python",
   "nbconvert_exporter": "python",
   "pygments_lexer": "ipython3",
   "version": "3.9.5"
  }
 },
 "nbformat": 4,
 "nbformat_minor": 5
}
