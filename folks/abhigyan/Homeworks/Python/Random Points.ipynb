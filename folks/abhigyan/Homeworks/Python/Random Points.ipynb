{
 "cells": [
  {
   "cell_type": "markdown",
   "metadata": {},
   "source": [
    "# Homework 8 - Q7\n",
    "\n",
    "We will now generate some random points, using a Points class that I wrote.\n",
    "\n",
    "We will also use the `random` class that is made available in Python."
   ]
  },
  {
   "cell_type": "code",
   "execution_count": 24,
   "metadata": {},
   "outputs": [],
   "source": [
    "from Points import Point\n",
    "import random as rd"
   ]
  },
  {
   "cell_type": "markdown",
   "metadata": {},
   "source": [
    "Now, we will choose how many points to plot: (Try out with different numbers)"
   ]
  },
  {
   "cell_type": "code",
   "execution_count": 25,
   "metadata": {},
   "outputs": [],
   "source": [
    "how_many = 10"
   ]
  },
  {
   "cell_type": "markdown",
   "metadata": {},
   "source": [
    "Next, we will actually generate some random points, using the function `random.randint(0,10)`, which will basically enable us to create a random number in the range (0,9). (10 is excluded)\n",
    "\n",
    "We will append those points to a list, and then print that list"
   ]
  },
  {
   "cell_type": "code",
   "execution_count": 26,
   "metadata": {},
   "outputs": [
    {
     "name": "stdout",
     "output_type": "stream",
     "text": [
      "[4,4]\n",
      "[7,8]\n",
      "[17,10]\n",
      "[24,15]\n",
      "[34,18]\n",
      "[44,27]\n",
      "[54,36]\n",
      "[59,37]\n",
      "[67,43]\n",
      "[74,45]\n"
     ]
    }
   ],
   "source": [
    "t = []\n",
    "for i in range(how_many):\n",
    "    if i==0:\n",
    "        t.append(Point([rd.randint(0,10),rd.randint(0,10)]))\n",
    "    else:\n",
    "        t.append(Point([rd.randint(1,10),rd.randint(1,10)])+t[i-1])\n",
    "\n",
    "for i in t:\n",
    "    print(i)"
   ]
  },
  {
   "cell_type": "markdown",
   "metadata": {},
   "source": [
    "For the next step, we need to create a list of variables. For this, I took some help from [here](https://ask.sagemath.org/question/7925/a-list-of-symbolic-variables/).\n",
    "\n",
    "In this process, we create `n` variables to fit an $(n-1)^{th}$ degree equation, given $n$ points."
   ]
  },
  {
   "cell_type": "code",
   "execution_count": 27,
   "metadata": {},
   "outputs": [],
   "source": [
    "s = list(var('a_%d' % i) for i in range(how_many))"
   ]
  },
  {
   "cell_type": "markdown",
   "metadata": {},
   "source": [
    "Next, we want to create Sage expressions that will equate the value of the function evaluated at a certain `x` with the corresponding value of `y`."
   ]
  },
  {
   "cell_type": "code",
   "execution_count": 28,
   "metadata": {},
   "outputs": [],
   "source": [
    "expr = []\n",
    "for i in range(how_many):\n",
    "    ex = t[i][0]\n",
    "    y = t[i][1]\n",
    "    expr_str = \"\"\n",
    "    for j in range(how_many):\n",
    "        if j==(how_many-1):\n",
    "            expr_str+=\"s[%d]*ex**(%d)-y==0\" % (j,j)\n",
    "        else:\n",
    "            expr_str+=\"s[%d]*ex**(%d)+\" % (j,j)\n",
    "    expr.append(eval(expr_str))"
   ]
  },
  {
   "cell_type": "markdown",
   "metadata": {},
   "source": [
    "We now have all our expressions in `expr`, and all our variables in `s`. Then all we need to do is solve the equation, and then take the `rhs()` of each of them, and send them to a new list."
   ]
  },
  {
   "cell_type": "code",
   "execution_count": 29,
   "metadata": {},
   "outputs": [],
   "source": [
    "Soln = solve(expr,s)\n",
    "soln_expr = []\n",
    "for i in Soln[0]:\n",
    "    soln_expr.append(i.rhs())"
   ]
  },
  {
   "cell_type": "markdown",
   "metadata": {},
   "source": [
    "Next, we need to create the plot, which also contains numerical parts, which is why we need to evaluate them using the `eval()` command. So, that's what we do:"
   ]
  },
  {
   "cell_type": "code",
   "execution_count": 30,
   "metadata": {},
   "outputs": [
    {
     "data": {
      "text/html": [
       "<html><script type=\"math/tex; mode=display\">\\newcommand{\\Bold}[1]{\\mathbf{#1}}\\left(4.2843840359225373 \\times 10^{-13}\\right) \\, x^{9} - \\left(2.5012941610920296 \\times 10^{-10}\\right) \\, x^{8} + \\left(5.264801351886396 \\times 10^{-08}\\right) \\, x^{7} - \\left(5.613855237002868 \\times 10^{-06}\\right) \\, x^{6} + 0.00034081125029892785 \\, x^{5} - 0.012231906668307634 \\, x^{4} + 0.25723537732123386 \\, x^{3} - 3.001017336892641 \\, x^{2} + 17.573233615924202 \\, x - 31.935195789026746</script></html>"
      ],
      "text/plain": [
       "(4.2843840359225373e-13)*x^9 - (2.5012941610920296e-10)*x^8 + (5.264801351886396e-08)*x^7 - (5.613855237002868e-06)*x^6 + 0.00034081125029892785*x^5 - 0.012231906668307634*x^4 + 0.25723537732123386*x^3 - 3.001017336892641*x^2 + 17.573233615924202*x - 31.935195789026746"
      ]
     },
     "metadata": {},
     "output_type": "display_data"
    }
   ],
   "source": [
    "plot_str=\"\"\n",
    "for i in range(len(soln_expr)):\n",
    "    if i==len(soln_expr)-1:\n",
    "        plot_str += str(float(soln_expr[i]))+\"*x**\"+str(i)\n",
    "    else:\n",
    "        plot_str += str(float(soln_expr[i]))+\"*x**\"+str(i)+\"+0\"\n",
    "\n",
    "plot_expr = eval(plot_str)\n",
    "plot_expr.show()"
   ]
  },
  {
   "cell_type": "markdown",
   "metadata": {},
   "source": [
    "Now, we have our final `plot_expr`, which we will plot using the plot command. We also plot the random points we had generated, and the line joining the points.\n",
    "\n",
    "This is the final result:"
   ]
  },
  {
   "cell_type": "code",
   "execution_count": 33,
   "metadata": {},
   "outputs": [
    {
     "data": {
      "image/png": "[encoded data removed]",
      "text/plain": [
       "Graphics object consisting of 3 graphics primitives"
      ]
     },
     "metadata": {},
     "output_type": "display_data"
    }
   ],
   "source": [
    "p1 = plot(plot_expr,(x,-100,100),ymin=-100,ymax=100)\n",
    "p2 = line(t,rgbcolor=(0,1,0))\n",
    "p3 = point(t,rgbcolor=(1,0,0),marker='x')\n",
    "z = p3+p1+p2\n",
    "z.show()"
   ]
  }
 ],
 "metadata": {
  "kernelspec": {
   "display_name": "SageMath 8.8",
   "language": "sage",
   "name": "sagemath"
  },
  "language_info": {
   "codemirror_mode": {
    "name": "ipython",
    "version": 3
   },
   "file_extension": ".py",
   "mimetype": "text/x-python",
   "name": "python",
   "nbconvert_exporter": "python",
   "pygments_lexer": "ipython3",
   "version": "3.7.3"
  }
 },
 "nbformat": 4,
 "nbformat_minor": 2
}
