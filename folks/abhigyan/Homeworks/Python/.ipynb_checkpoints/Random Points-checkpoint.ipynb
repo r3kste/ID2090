{
 "cells": [
  {
   "cell_type": "markdown",
   "metadata": {},
   "source": [
    "# Homework 8 - Q7\n",
    "\n",
    "We will now generate some random points, using a Points class that I wrote.\n",
    "\n",
    "We will also use the `random` class that is made available in Python."
   ]
  },
  {
   "cell_type": "code",
   "execution_count": 1,
   "metadata": {},
   "outputs": [],
   "source": [
    "from Points import Point\n",
    "import random as rd"
   ]
  },
  {
   "cell_type": "markdown",
   "metadata": {},
   "source": [
    "Now, we will choose how many points to plot: (Try out with different numbers)"
   ]
  },
  {
   "cell_type": "code",
   "execution_count": 2,
   "metadata": {},
   "outputs": [],
   "source": [
    "how_many = 5"
   ]
  },
  {
   "cell_type": "code",
   "execution_count": 3,
   "metadata": {},
   "outputs": [
    {
     "name": "stdout",
     "output_type": "stream",
     "text": [
      "[8,4]\n",
      "[13,8]\n",
      "[19,17]\n",
      "[27,19]\n",
      "[33,25]\n"
     ]
    }
   ],
   "source": [
    "t = []\n",
    "for i in range(how_many):\n",
    "    if i==0:\n",
    "        t.append(Point([rd.randint(0,10),rd.randint(0,10)]))\n",
    "    else:\n",
    "        t.append(Point([rd.randint(1,10),rd.randint(1,10)])+t[i-1])\n",
    "\n",
    "for i in t:\n",
    "    print(i)"
   ]
  },
  {
   "cell_type": "markdown",
   "metadata": {},
   "source": [
    "Help taken from [here](https://ask.sagemath.org/question/7925/a-list-of-symbolic-variables/)."
   ]
  },
  {
   "cell_type": "code",
   "execution_count": 4,
   "metadata": {},
   "outputs": [],
   "source": [
    "s = list(var('a_%d' % i) for i in range(how_many))"
   ]
  },
  {
   "cell_type": "code",
   "execution_count": 5,
   "metadata": {},
   "outputs": [],
   "source": [
    "expr = []\n",
    "for i in range(how_many):\n",
    "    ex = t[i][0]\n",
    "    y = t[i][1]\n",
    "    expr_str = \"\"\n",
    "    for j in range(how_many):\n",
    "        if j==(how_many-1):\n",
    "            expr_str+=\"s[%d]*ex**(%d)-y==0\" % (j,j)\n",
    "        else:\n",
    "            expr_str+=\"s[%d]*ex**(%d)+\" % (j,j)\n",
    "    expr.append(eval(expr_str))"
   ]
  },
  {
   "cell_type": "code",
   "execution_count": 6,
   "metadata": {},
   "outputs": [],
   "source": [
    "Soln = solve(expr,s)\n",
    "Soln\n",
    "soln_expr = []\n",
    "for i in Soln[0]:\n",
    "    soln_expr.append(i.rhs())"
   ]
  },
  {
   "cell_type": "code",
   "execution_count": 7,
   "metadata": {},
   "outputs": [
    {
     "data": {
      "text/html": [
       "<html><script type=\"math/tex; mode=display\">\\newcommand{\\Bold}[1]{\\mathbf{#1}}0.0006076555023923445 \\, x^{4} - 0.048761449077238554 \\, x^{3} + 1.3474962406015039 \\, x^{2} - 14.038071086807928 \\, x + 52.541714285714285</script></html>"
      ],
      "text/plain": [
       "0.0006076555023923445*x^4 - 0.048761449077238554*x^3 + 1.3474962406015039*x^2 - 14.038071086807928*x + 52.541714285714285"
      ]
     },
     "metadata": {},
     "output_type": "display_data"
    }
   ],
   "source": [
    "plot_str=\"\"\n",
    "for i in range(len(soln_expr)):\n",
    "    if i==len(soln_expr)-1:\n",
    "        plot_str += str(float(soln_expr[i]))+\"*x**\"+str(i)\n",
    "    else:\n",
    "        plot_str += str(float(soln_expr[i]))+\"*x**\"+str(i)+\"+0\"\n",
    "\n",
    "plot_expr = eval(plot_str)\n",
    "plot_expr.show()"
   ]
  },
  {
   "cell_type": "code",
   "execution_count": 8,
   "metadata": {},
   "outputs": [
    {
     "data": {
      "image/png": "[encoded data removed]",
      "text/plain": [
       "Graphics object consisting of 3 graphics primitives"
      ]
     },
     "metadata": {},
     "output_type": "display_data"
    }
   ],
   "source": [
    "p1 = plot(plot_expr,(x,-50,50),ymin=-100,ymax=100)\n",
    "p2 = line(t,rgbcolor=(0,1,0))\n",
    "p3 = point(t,rgbcolor=(1,0,0),marker='x')\n",
    "z = p3+p1+p2\n",
    "z.show()"
   ]
  }
 ],
 "metadata": {
  "kernelspec": {
   "display_name": "SageMath 8.8",
   "language": "sage",
   "name": "sagemath"
  },
  "language_info": {
   "codemirror_mode": {
    "name": "ipython",
    "version": 3
   },
   "file_extension": ".py",
   "mimetype": "text/x-python",
   "name": "python",
   "nbconvert_exporter": "python",
   "pygments_lexer": "ipython3",
   "version": "3.7.3"
  }
 },
 "nbformat": 4,
 "nbformat_minor": 2
}
