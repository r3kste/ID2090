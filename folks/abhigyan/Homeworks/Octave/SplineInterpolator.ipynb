{
 "cells": [
  {
   "cell_type": "code",
   "execution_count": 4,
   "metadata": {},
   "outputs": [],
   "source": [
    "m=csvread(\"/home/abhigyan/Code/Bash-Scripts/oscillator.txt\");\n",
    "X=[];\n",
    "F=[];\n",
    "\n",
    "n = size(m)-1;\n",
    "\n",
    "#Actual values\n",
    "delta=0;\n",
    "k=1;\n",
    "for j=1:2*n\n",
    "    F(j)=m(k,2);\n",
    "    for i=1:4\n",
    "        X(j,i+delta)=(m(k))**(4-i);\n",
    "    endfor\n",
    "    if (mod(j,2)==0)\n",
    "        delta=delta+4;\n",
    "        continue;\n",
    "    endif\n",
    "    k=k+1;\n",
    "endfor\n",
    "\n",
    "#1st Derivatives\n",
    "\n",
    "k=2;\n",
    "delta=0;\n",
    "for j=(2*n+1):(3*n-1)\n",
    "    F(j)=0;\n",
    "    for i=1:3\n",
    "        if (i==1)\n",
    "            X(j,i+delta)=3*((m(k))**2);\n",
    "            X(j,i+4+delta)=-3*((m(k))**2);\n",
    "        elseif (i==2)\n",
    "            X(j,i+delta)=2*(m(k));\n",
    "            X(j,i+delta+4)=-2*(m(k));\n",
    "        elseif (i==3)\n",
    "            X(j,i+delta)=1;\n",
    "            X(j,i+delta+4)=-1;\n",
    "        endif\n",
    "    endfor\n",
    "    delta=delta+4;\n",
    "    k=k+1;\n",
    "endfor\n",
    "\n",
    "#2nd Derivatives\n",
    "\n",
    "k=2;\n",
    "delta=0;\n",
    "for j=(3*n):(4*n-2)\n",
    "    F(j)=0;\n",
    "    for i=1:2\n",
    "        if (i==1)\n",
    "            X(j,i+delta)=6*m(k);\n",
    "            X(j,i+delta+4)=-6*m(k);\n",
    "        elseif (i==2)\n",
    "            X(j,i+delta)=2;\n",
    "            X(j,i+delta+4)=-2;\n",
    "        endif\n",
    "    endfor\n",
    "    delta=delta+4;\n",
    "    k=k+1;\n",
    "endfor\n",
    "\n",
    "X(:,[1,1+(n-1)*4])=[];\n",
    "#X #use this to debug\n",
    "#disp(X); \n",
    "#F\n",
    "#disp(F);\n",
    "A=(X)\\(F');\n",
    "#print('A')\n",
    "A=[0;A(1:3*n-2);0;A(3*n-1:4*n-2)];\n",
    "A = reshape(A,4,length(A)/4);\n",
    "csvwrite('output.csv',A)"
   ]
  }
 ],
 "metadata": {
  "kernelspec": {
   "display_name": "Octave",
   "language": "octave",
   "name": "octave"
  },
  "language_info": {
   "file_extension": ".m",
   "help_links": [
    {
     "text": "GNU Octave",
     "url": "https://www.gnu.org/software/octave/support.html"
    },
    {
     "text": "Octave Kernel",
     "url": "https://github.com/Calysto/octave_kernel"
    },
    {
     "text": "MetaKernel Magics",
     "url": "https://metakernel.readthedocs.io/en/latest/source/README.html"
    }
   ],
   "mimetype": "text/x-octave",
   "name": "octave",
   "version": "4.2.2"
  }
 },
 "nbformat": 4,
 "nbformat_minor": 2
}
