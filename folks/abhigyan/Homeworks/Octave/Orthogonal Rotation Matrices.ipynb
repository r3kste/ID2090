{
 "cells": [
  {
   "cell_type": "markdown",
   "metadata": {},
   "source": [
    "# Homework 9 - Q7\n",
    "\n",
    "## Problem Statement:\n",
    "\n",
    "> Consider the following two matrices:\n",
    "$$\n",
    "A = \\begin{bmatrix} 1.0 &2.0&3.0 \\\\ 1.1 & 2.1 & 3.1 \\\\ 2.5 & 1.6 & 3.3\\end{bmatrix} \\text{and } T = \\begin{bmatrix} \\cos(\\theta) & \\sin(\\theta) & 0 \\\\ -\\sin(\\theta) & \\cos(\\theta) & 0 \\\\ 0 & 0 & 1 \\end{bmatrix}\n",
    "$$\n",
    "The new matrix $B$ is defined as follows:\n",
    "$$ B = T\\times A\\times\\text{transpose}(T) $$\n",
    "Evaluate the trace of A and B for different values of $\\theta$ and comment on your observation.\n",
    "\n",
    "This is a very simple problem in GNU Octave/MATLAB, as they have very extensive linear algebra support."
   ]
  },
  {
   "cell_type": "code",
   "execution_count": 1,
   "metadata": {},
   "outputs": [
    {
     "name": "stdout",
     "output_type": "stream",
     "text": [
      "A =\r\n",
      "\r\n",
      "   1.0000   2.0000   3.0000\r\n",
      "   1.1000   2.1000   3.1000\r\n",
      "   2.5000   1.6000   3.3000\r\n",
      "\r\n"
     ]
    }
   ],
   "source": [
    "A = [1.0,2.0,3.0;1.1,2.1,3.1;2.5,1.6,3.3]"
   ]
  },
  {
   "cell_type": "code",
   "execution_count": 2,
   "metadata": {},
   "outputs": [
    {
     "name": "stdout",
     "output_type": "stream",
     "text": [
      "theta =\r\n",
      "\r\n",
      " Columns 1 through 8:\r\n",
      "\r\n",
      "    1.5708    3.1416    4.7124    6.2832    7.8540    9.4248   10.9956   12.5664\r\n",
      "\r\n",
      " Columns 9 and 10:\r\n",
      "\r\n",
      "   14.1372   15.7080\r\n",
      "\r\n"
     ]
    }
   ],
   "source": [
    "theta = [pi/2:pi/2:5*pi]"
   ]
  },
  {
   "cell_type": "code",
   "execution_count": 3,
   "metadata": {
    "scrolled": false
   },
   "outputs": [
    {
     "name": "stdout",
     "output_type": "stream",
     "text": [
      "trace(A) = \r\n",
      " 6.4000\r\n",
      "trace(B) = \r\n",
      " 6.4000\r\n",
      "trace(A) = \r\n",
      " 6.4000\r\n",
      "trace(B) = \r\n",
      " 6.4000\r\n",
      "trace(A) = \r\n",
      " 6.4000\r\n",
      "trace(B) = \r\n",
      " 6.4000\r\n",
      "trace(A) = \r\n",
      " 6.4000\r\n",
      "trace(B) = \r\n",
      " 6.4000\r\n",
      "trace(A) = \r\n",
      " 6.4000\r\n",
      "trace(B) = \r\n",
      " 6.4000\r\n",
      "trace(A) = \r\n",
      " 6.4000\r\n",
      "trace(B) = \r\n",
      " 6.4000\r\n",
      "trace(A) = \r\n",
      " 6.4000\r\n",
      "trace(B) = \r\n",
      " 6.4000\r\n",
      "trace(A) = \r\n",
      " 6.4000\r\n",
      "trace(B) = \r\n",
      " 6.4000\r\n",
      "trace(A) = \r\n",
      " 6.4000\r\n",
      "trace(B) = \r\n",
      " 6.4000\r\n",
      "trace(A) = \r\n",
      " 6.4000\r\n",
      "trace(B) = \r\n",
      " 6.4000\r\n"
     ]
    }
   ],
   "source": [
    "for i = 1:10\n",
    "    T = [cos(theta(i)), sin(theta(i)), 0; -1*sin(theta(i)), cos(theta(i)),0; 0,0,1];\n",
    "    B = T * A * T';\n",
    "    disp('trace(A) = '),disp(trace(A))\n",
    "    disp('trace(B) = '),disp(trace(B))\n",
    "end;"
   ]
  },
  {
   "cell_type": "markdown",
   "metadata": {},
   "source": [
    "Thus, the value of `trace(A)` is equal to `trace(B)` whenever we apply this transformation to A.\n",
    "\n",
    "Basically, the matrix $T = \\begin{bmatrix} \\cos(\\theta) & \\sin(\\theta) & 0 \\\\ -\\sin(\\theta) & \\cos(\\theta) & 0 \\\\ 0 & 0 & 1 \\end{bmatrix}$ is the inverse of the orthogonal rotation matrix in the $z$ direction, hence, when we multiply it with $A$, we basically rotate each of its columns by $\\theta$ in the clockwise direction. Let us call this transformed matrix as $A_{rot}$.\n",
    "\n",
    "Now, when we multiply the new matrix, $A_{rot}$ with the transpose of $T$, we're basically getting a new matrix with the same trace."
   ]
  }
 ],
 "metadata": {
  "kernelspec": {
   "display_name": "Octave",
   "language": "octave",
   "name": "octave"
  },
  "language_info": {
   "file_extension": ".m",
   "help_links": [
    {
     "text": "GNU Octave",
     "url": "https://www.gnu.org/software/octave/support.html"
    },
    {
     "text": "Octave Kernel",
     "url": "https://github.com/Calysto/octave_kernel"
    },
    {
     "text": "MetaKernel Magics",
     "url": "https://metakernel.readthedocs.io/en/latest/source/README.html"
    }
   ],
   "mimetype": "text/x-octave",
   "name": "octave",
   "version": "4.2.2"
  }
 },
 "nbformat": 4,
 "nbformat_minor": 2
}
