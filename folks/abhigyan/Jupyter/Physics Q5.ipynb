{
 "cells": [
  {
   "cell_type": "code",
   "execution_count": 1,
   "metadata": {},
   "outputs": [
    {
     "data": {
      "text/plain": [
       "(theta, eps)"
      ]
     },
     "execution_count": 1,
     "metadata": {},
     "output_type": "execute_result"
    }
   ],
   "source": [
    "var('theta,eps')"
   ]
  },
  {
   "cell_type": "code",
   "execution_count": 2,
   "metadata": {},
   "outputs": [],
   "source": [
    "assume(eps>0)"
   ]
  },
  {
   "cell_type": "code",
   "execution_count": 3,
   "metadata": {},
   "outputs": [],
   "source": [
    "assume(eps-1<0)"
   ]
  },
  {
   "cell_type": "code",
   "execution_count": 4,
   "metadata": {},
   "outputs": [],
   "source": [
    "assume(sqrt(1-eps^2)-eps+1>0)"
   ]
  },
  {
   "cell_type": "code",
   "execution_count": 5,
   "metadata": {},
   "outputs": [],
   "source": [
    "assume( abs(sqrt(1-eps^2)-1)-eps > 0)"
   ]
  },
  {
   "cell_type": "code",
   "execution_count": 6,
   "metadata": {},
   "outputs": [],
   "source": [
    "f(theta) = eps^2*sin(theta)^2/(1+eps*cos(theta))^2"
   ]
  },
  {
   "cell_type": "code",
   "execution_count": 7,
   "metadata": {
    "scrolled": true
   },
   "outputs": [
    {
     "data": {
      "text/html": [
       "<html><script type=\"math/tex; mode=display\">\\newcommand{\\Bold}[1]{\\mathbf{#1}}\\frac{\\mathit{eps}^{3} - 2 \\, \\sqrt{-\\mathit{eps}^{2} + 1} \\arctan\\left(\\frac{\\sqrt{-\\mathit{eps}^{2} + 1}}{\\mathit{eps} + 1}\\right) - \\mathit{eps}}{\\mathit{eps}^{2} - 1}</script></html>"
      ],
      "text/plain": [
       "(eps^3 - 2*sqrt(-eps^2 + 1)*arctan(sqrt(-eps^2 + 1)/(eps + 1)) - eps)/(eps^2 - 1)"
      ]
     },
     "metadata": {},
     "output_type": "display_data"
    }
   ],
   "source": [
    "integrate(1+f, theta,0,pi/2).show()"
   ]
  },
  {
   "cell_type": "code",
   "execution_count": 8,
   "metadata": {},
   "outputs": [],
   "source": [
    "t = integrate(1+eps^2*sin(theta)^2/(1+eps*cos(theta))^2, theta)"
   ]
  },
  {
   "cell_type": "code",
   "execution_count": 10,
   "metadata": {},
   "outputs": [
    {
     "data": {
      "text/html": [
       "<html><script type=\"math/tex; mode=display\">\\newcommand{\\Bold}[1]{\\mathbf{#1}}-2 \\, \\mathit{eps}^{2} {\\left(\\frac{\\arctan\\left(\\frac{\\sin\\left(\\theta\\right)}{\\cos\\left(\\theta\\right) + 1}\\right)}{\\mathit{eps}^{2}} - \\frac{\\sin\\left(\\theta\\right)}{{\\left(\\mathit{eps}^{2} + \\mathit{eps} - \\frac{{\\left(\\mathit{eps}^{2} - \\mathit{eps}\\right)} \\sin\\left(\\theta\\right)^{2}}{{\\left(\\cos\\left(\\theta\\right) + 1\\right)}^{2}}\\right)} {\\left(\\cos\\left(\\theta\\right) + 1\\right)}} + \\frac{\\arctan\\left(\\frac{{\\left(\\mathit{eps} - 1\\right)} \\sin\\left(\\theta\\right)}{\\sqrt{-\\mathit{eps}^{2} + 1} {\\left(\\cos\\left(\\theta\\right) + 1\\right)}}\\right)}{\\sqrt{-\\mathit{eps}^{2} + 1} \\mathit{eps}^{2}}\\right)} + \\theta</script></html>"
      ],
      "text/plain": [
       "-2*eps^2*(arctan(sin(theta)/(cos(theta) + 1))/eps^2 - sin(theta)/((eps^2 + eps - (eps^2 - eps)*sin(theta)^2/(cos(theta) + 1)^2)*(cos(theta) + 1)) + arctan((eps - 1)*sin(theta)/(sqrt(-eps^2 + 1)*(cos(theta) + 1)))/(sqrt(-eps^2 + 1)*eps^2)) + theta"
      ]
     },
     "metadata": {},
     "output_type": "display_data"
    }
   ],
   "source": [
    "t.show()"
   ]
  },
  {
   "cell_type": "code",
   "execution_count": null,
   "metadata": {},
   "outputs": [],
   "source": []
  }
 ],
 "metadata": {
  "kernelspec": {
   "display_name": "SageMath 8.8",
   "language": "sage",
   "name": "sagemath"
  },
  "language_info": {
   "codemirror_mode": {
    "name": "ipython",
    "version": 3
   },
   "file_extension": ".py",
   "mimetype": "text/x-python",
   "name": "python",
   "nbconvert_exporter": "python",
   "pygments_lexer": "ipython3",
   "version": "3.7.3"
  }
 },
 "nbformat": 4,
 "nbformat_minor": 2
}
