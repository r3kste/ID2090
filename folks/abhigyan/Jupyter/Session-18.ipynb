{
 "cells": [
  {
   "cell_type": "markdown",
   "metadata": {},
   "source": [
    "# Symbolic Expressions \n",
    "\n",
    "In this notebook we explore things that can be done with expressions."
   ]
  },
  {
   "cell_type": "code",
   "execution_count": 1,
   "metadata": {},
   "outputs": [
    {
     "data": {
      "text/plain": [
       "(x, y)"
      ]
     },
     "execution_count": 1,
     "metadata": {},
     "output_type": "execute_result"
    }
   ],
   "source": [
    "var('x,y')"
   ]
  },
  {
   "cell_type": "code",
   "execution_count": 2,
   "metadata": {},
   "outputs": [
    {
     "data": {
      "text/html": [
       "<html><script type=\"math/tex; mode=display\">\\newcommand{\\Bold}[1]{\\mathbf{#1}}{\\left(x + 3\\right)}^{3}</script></html>"
      ],
      "text/plain": [
       "(x + 3)^3"
      ]
     },
     "metadata": {},
     "output_type": "display_data"
    }
   ],
   "source": [
    "poly1 = (x+3)^3\n",
    "poly1.show()"
   ]
  },
  {
   "cell_type": "code",
   "execution_count": 3,
   "metadata": {},
   "outputs": [
    {
     "data": {
      "text/plain": [
       "<type 'sage.symbolic.expression.Expression'>"
      ]
     },
     "execution_count": 3,
     "metadata": {},
     "output_type": "execute_result"
    }
   ],
   "source": [
    "type(poly1)"
   ]
  },
  {
   "cell_type": "code",
   "execution_count": 4,
   "metadata": {},
   "outputs": [
    {
     "data": {
      "text/html": [
       "<html><script type=\"math/tex; mode=display\">\\newcommand{\\Bold}[1]{\\mathbf{#1}}x^{3} + 9 \\, x^{2} + 27 \\, x + 27</script></html>"
      ],
      "text/plain": [
       "x^3 + 9*x^2 + 27*x + 27"
      ]
     },
     "metadata": {},
     "output_type": "display_data"
    }
   ],
   "source": [
    "poly1.expand().show()"
   ]
  },
  {
   "cell_type": "code",
   "execution_count": 5,
   "metadata": {},
   "outputs": [
    {
     "data": {
      "text/html": [
       "<html><script type=\"math/tex; mode=display\">\\newcommand{\\Bold}[1]{\\mathbf{#1}}x^{2} + 2 \\, x - 3</script></html>"
      ],
      "text/plain": [
       "x^2 + 2*x - 3"
      ]
     },
     "metadata": {},
     "output_type": "display_data"
    }
   ],
   "source": [
    "poly2 = x^2+2*x-3\n",
    "poly2.show()"
   ]
  },
  {
   "cell_type": "code",
   "execution_count": 6,
   "metadata": {},
   "outputs": [
    {
     "data": {
      "text/html": [
       "<html><script type=\"math/tex; mode=display\">\\newcommand{\\Bold}[1]{\\mathbf{#1}}{\\left(x + 3\\right)} {\\left(x - 1\\right)}</script></html>"
      ],
      "text/plain": [
       "(x + 3)*(x - 1)"
      ]
     },
     "metadata": {},
     "output_type": "display_data"
    }
   ],
   "source": [
    "poly2.factor().show()"
   ]
  },
  {
   "cell_type": "markdown",
   "metadata": {},
   "source": [
    "## Equations as expressions"
   ]
  },
  {
   "cell_type": "code",
   "execution_count": 7,
   "metadata": {},
   "outputs": [
    {
     "data": {
      "text/html": [
       "<html><script type=\"math/tex; mode=display\">\\newcommand{\\Bold}[1]{\\mathbf{#1}}\\frac{y - 3}{x^{2} + 1} = x^{3} - 5</script></html>"
      ],
      "text/plain": [
       "(y - 3)/(x^2 + 1) == x^3 - 5"
      ]
     },
     "metadata": {},
     "output_type": "display_data"
    }
   ],
   "source": [
    "expr1 = (y-3)/(x^2+1)==x^3-5\n",
    "expr1.show()"
   ]
  },
  {
   "cell_type": "code",
   "execution_count": 8,
   "metadata": {},
   "outputs": [
    {
     "data": {
      "text/html": [
       "<html><script type=\"math/tex; mode=display\">\\newcommand{\\Bold}[1]{\\mathbf{#1}}\\frac{y - 3}{x^{2} + 1}</script></html>"
      ],
      "text/plain": [
       "(y - 3)/(x^2 + 1)"
      ]
     },
     "metadata": {},
     "output_type": "display_data"
    }
   ],
   "source": [
    "expr1.lhs().show()"
   ]
  },
  {
   "cell_type": "code",
   "execution_count": 9,
   "metadata": {},
   "outputs": [
    {
     "data": {
      "text/html": [
       "<html><script type=\"math/tex; mode=display\">\\newcommand{\\Bold}[1]{\\mathbf{#1}}x^{3} - 5</script></html>"
      ],
      "text/plain": [
       "x^3 - 5"
      ]
     },
     "metadata": {},
     "output_type": "display_data"
    }
   ],
   "source": [
    "expr1.rhs().show()"
   ]
  },
  {
   "cell_type": "code",
   "execution_count": 10,
   "metadata": {},
   "outputs": [
    {
     "data": {
      "text/html": [
       "<html><script type=\"math/tex; mode=display\">\\newcommand{\\Bold}[1]{\\mathbf{#1}}y - 3 = {\\left(x^{3} - 5\\right)} {\\left(x^{2} + 1\\right)}</script></html>"
      ],
      "text/plain": [
       "y - 3 == (x^3 - 5)*(x^2 + 1)"
      ]
     },
     "metadata": {},
     "output_type": "display_data"
    }
   ],
   "source": [
    "expr2=expr1.multiply_both_sides(x^2+1)\n",
    "expr2.show()"
   ]
  },
  {
   "cell_type": "code",
   "execution_count": 11,
   "metadata": {},
   "outputs": [
    {
     "data": {
      "text/html": [
       "<html><script type=\"math/tex; mode=display\">\\newcommand{\\Bold}[1]{\\mathbf{#1}}y = {\\left(x^{3} - 5\\right)} {\\left(x^{2} + 1\\right)} + 3</script></html>"
      ],
      "text/plain": [
       "y == (x^3 - 5)*(x^2 + 1) + 3"
      ]
     },
     "metadata": {},
     "output_type": "display_data"
    }
   ],
   "source": [
    "expr3=expr2.add_to_both_sides(3)\n",
    "expr3.show()"
   ]
  },
  {
   "cell_type": "code",
   "execution_count": 12,
   "metadata": {},
   "outputs": [
    {
     "data": {
      "text/html": [
       "<html><script type=\"math/tex; mode=display\">\\newcommand{\\Bold}[1]{\\mathbf{#1}}y = x^{5} + x^{3} - 5 \\, x^{2} - 2</script></html>"
      ],
      "text/plain": [
       "y == x^5 + x^3 - 5*x^2 - 2"
      ]
     },
     "metadata": {},
     "output_type": "display_data"
    }
   ],
   "source": [
    "expr3a=expr3.expand().show()"
   ]
  },
  {
   "cell_type": "markdown",
   "metadata": {},
   "source": [
    "## Analytical solutions"
   ]
  },
  {
   "cell_type": "code",
   "execution_count": 13,
   "metadata": {},
   "outputs": [
    {
     "data": {
      "text/plain": [
       "[y == x^5 + x^3 - 5*x^2 - 2]"
      ]
     },
     "execution_count": 13,
     "metadata": {},
     "output_type": "execute_result"
    }
   ],
   "source": [
    "solve(expr1,y)"
   ]
  },
  {
   "cell_type": "code",
   "execution_count": 14,
   "metadata": {},
   "outputs": [
    {
     "data": {
      "text/plain": [
       "[x == -sqrt(5) + 1, x == sqrt(5) + 1]"
      ]
     },
     "execution_count": 14,
     "metadata": {},
     "output_type": "execute_result"
    }
   ],
   "source": [
    "expr4 = x^2/2-x-2 == 0\n",
    "solve(expr4,x)"
   ]
  },
  {
   "cell_type": "code",
   "execution_count": 15,
   "metadata": {},
   "outputs": [
    {
     "data": {
      "text/plain": [
       "[x == -1/2*sqrt(21) - 9/2, x == 1/2*sqrt(21) - 9/2]"
      ]
     },
     "execution_count": 15,
     "metadata": {},
     "output_type": "execute_result"
    }
   ],
   "source": [
    "solve(x^2+9*x+15==0,x)"
   ]
  },
  {
   "cell_type": "code",
   "execution_count": 16,
   "metadata": {},
   "outputs": [
    {
     "data": {
      "text/html": [
       "<html><script type=\"math/tex; mode=display\">\\newcommand{\\Bold}[1]{\\mathbf{#1}}x = -\\frac{b + \\sqrt{b^{2} - 4 \\, a c}}{2 \\, a}</script></html>"
      ],
      "text/plain": [
       "x == -1/2*(b + sqrt(b^2 - 4*a*c))/a"
      ]
     },
     "metadata": {},
     "output_type": "display_data"
    },
    {
     "data": {
      "text/html": [
       "<html><script type=\"math/tex; mode=display\">\\newcommand{\\Bold}[1]{\\mathbf{#1}}x = -\\frac{b - \\sqrt{b^{2} - 4 \\, a c}}{2 \\, a}</script></html>"
      ],
      "text/plain": [
       "x == -1/2*(b - sqrt(b^2 - 4*a*c))/a"
      ]
     },
     "metadata": {},
     "output_type": "display_data"
    }
   ],
   "source": [
    "var('a,b,c')\n",
    "[x1,x2]=solve(a*x^2+b*x+c==0,x)\n",
    "x1.show()\n",
    "x2.show()"
   ]
  },
  {
   "cell_type": "markdown",
   "metadata": {},
   "source": [
    "## Manipulation of polynomials"
   ]
  },
  {
   "cell_type": "code",
   "execution_count": 17,
   "metadata": {},
   "outputs": [
    {
     "data": {
      "text/html": [
       "<html><script type=\"math/tex; mode=display\">\\newcommand{\\Bold}[1]{\\mathbf{#1}}{\\left(x - 3\\right)} {\\left(x - 5\\right)}</script></html>"
      ],
      "text/plain": [
       "(x - 3)*(x - 5)"
      ]
     },
     "metadata": {},
     "output_type": "display_data"
    },
    {
     "data": {
      "text/html": [
       "<html><script type=\"math/tex; mode=display\">\\newcommand{\\Bold}[1]{\\mathbf{#1}}{\\left(x - 2\\right)} {\\left(x - 3\\right)}</script></html>"
      ],
      "text/plain": [
       "(x - 2)*(x - 3)"
      ]
     },
     "metadata": {},
     "output_type": "display_data"
    },
    {
     "data": {
      "text/plain": [
       "x - 3"
      ]
     },
     "execution_count": 17,
     "metadata": {},
     "output_type": "execute_result"
    }
   ],
   "source": [
    "gcdpart1 = x^2-8*x+15\n",
    "gcdpart2 = x^2-5*x+6\n",
    "factor(gcdpart1).show()\n",
    "factor(gcdpart2).show()\n",
    "gcd(gcdpart1, gcdpart2)"
   ]
  },
  {
   "cell_type": "markdown",
   "metadata": {},
   "source": [
    "## Rational functions"
   ]
  },
  {
   "cell_type": "code",
   "execution_count": 18,
   "metadata": {},
   "outputs": [
    {
     "data": {
      "text/html": [
       "<html><script type=\"math/tex; mode=display\">\\newcommand{\\Bold}[1]{\\mathbf{#1}}\\frac{x + 1}{{\\left(x + 2\\right)}^{3} x^{2}}</script></html>"
      ],
      "text/plain": [
       "(x + 1)/((x + 2)^3*x^2)"
      ]
     },
     "metadata": {},
     "output_type": "display_data"
    }
   ],
   "source": [
    "expr5 = (x+1)/(x^2*(x+2)^3)\n",
    "expr5.show()"
   ]
  },
  {
   "cell_type": "code",
   "execution_count": 19,
   "metadata": {},
   "outputs": [
    {
     "data": {
      "text/html": [
       "<html><script type=\"math/tex; mode=display\">\\newcommand{\\Bold}[1]{\\mathbf{#1}}x + 1</script></html>"
      ],
      "text/plain": [
       "x + 1"
      ]
     },
     "metadata": {},
     "output_type": "display_data"
    }
   ],
   "source": [
    "expr5.numerator().show()"
   ]
  },
  {
   "cell_type": "code",
   "execution_count": 20,
   "metadata": {},
   "outputs": [
    {
     "data": {
      "text/html": [
       "<html><script type=\"math/tex; mode=display\">\\newcommand{\\Bold}[1]{\\mathbf{#1}}{\\left(x + 2\\right)}^{3} x^{2}</script></html>"
      ],
      "text/plain": [
       "(x + 2)^3*x^2"
      ]
     },
     "metadata": {},
     "output_type": "display_data"
    }
   ],
   "source": [
    "expr5.denominator().show()"
   ]
  },
  {
   "cell_type": "code",
   "execution_count": 21,
   "metadata": {},
   "outputs": [
    {
     "data": {
      "text/html": [
       "<html><script type=\"math/tex; mode=display\">\\newcommand{\\Bold}[1]{\\mathbf{#1}}\\frac{1}{{\\left(x^{3} + 6 \\, x^{2} + 12 \\, x + 8\\right)} x} + \\frac{1}{{\\left(x^{3} + 6 \\, x^{2} + 12 \\, x + 8\\right)} x^{2}}</script></html>"
      ],
      "text/plain": [
       "1/((x^3 + 6*x^2 + 12*x + 8)*x) + 1/((x^3 + 6*x^2 + 12*x + 8)*x^2)"
      ]
     },
     "metadata": {},
     "output_type": "display_data"
    }
   ],
   "source": [
    "expr5.expand_rational().show()"
   ]
  },
  {
   "cell_type": "code",
   "execution_count": 22,
   "metadata": {},
   "outputs": [
    {
     "data": {
      "text/html": [
       "<html><script type=\"math/tex; mode=display\">\\newcommand{\\Bold}[1]{\\mathbf{#1}}\\frac{1}{16 \\, {\\left(x + 2\\right)}} - \\frac{1}{16 \\, x} + \\frac{1}{8 \\, x^{2}} - \\frac{1}{4 \\, {\\left(x + 2\\right)}^{3}}</script></html>"
      ],
      "text/plain": [
       "1/16/(x + 2) - 1/16/x + 1/8/x^2 - 1/4/(x + 2)^3"
      ]
     },
     "metadata": {},
     "output_type": "display_data"
    }
   ],
   "source": [
    "expr5.partial_fraction().show()"
   ]
  },
  {
   "cell_type": "markdown",
   "metadata": {},
   "source": [
    "## Substitutions"
   ]
  },
  {
   "cell_type": "code",
   "execution_count": 23,
   "metadata": {},
   "outputs": [],
   "source": [
    "expr6 = 1/x+ 3*x^2 + cos(x)"
   ]
  },
  {
   "cell_type": "code",
   "execution_count": 24,
   "metadata": {},
   "outputs": [
    {
     "data": {
      "text/html": [
       "<html><script type=\"math/tex; mode=display\">\\newcommand{\\Bold}[1]{\\mathbf{#1}}75 \\, t^{2} + \\frac{1}{5 \\, t} + \\cos\\left(5 \\, t\\right)</script></html>"
      ],
      "text/plain": [
       "75*t^2 + 1/5/t + cos(5*t)"
      ]
     },
     "metadata": {},
     "output_type": "display_data"
    }
   ],
   "source": [
    "var('t')\n",
    "expr6.substitute(x==5*t).show()"
   ]
  },
  {
   "cell_type": "markdown",
   "metadata": {},
   "source": [
    "## Manipulating Trigonometric Expressions"
   ]
  },
  {
   "cell_type": "code",
   "execution_count": 25,
   "metadata": {},
   "outputs": [
    {
     "data": {
      "text/html": [
       "<html><script type=\"math/tex; mode=display\">\\newcommand{\\Bold}[1]{\\mathbf{#1}}\\cos\\left(x\\right)^{2} \\sin\\left(x\\right)^{2} + \\sin\\left(y\\right)^{2}</script></html>"
      ],
      "text/plain": [
       "cos(x)^2*sin(x)^2 + sin(y)^2"
      ]
     },
     "metadata": {},
     "output_type": "display_data"
    }
   ],
   "source": [
    "texp1 = sin(x)^2*cos(x)^2+sin(y)^2\n",
    "texp1.show()"
   ]
  },
  {
   "cell_type": "code",
   "execution_count": 26,
   "metadata": {},
   "outputs": [
    {
     "data": {
      "text/html": [
       "<html><script type=\"math/tex; mode=display\">\\newcommand{\\Bold}[1]{\\mathbf{#1}}-\\frac{1}{8} \\, \\cos\\left(4 \\, x\\right) - \\frac{1}{2} \\, \\cos\\left(2 \\, y\\right) + \\frac{5}{8}</script></html>"
      ],
      "text/plain": [
       "-1/8*cos(4*x) - 1/2*cos(2*y) + 5/8"
      ]
     },
     "metadata": {},
     "output_type": "display_data"
    }
   ],
   "source": [
    "texp2 = texp1.trig_reduce()\n",
    "texp2.show()"
   ]
  },
  {
   "cell_type": "code",
   "execution_count": 27,
   "metadata": {},
   "outputs": [
    {
     "data": {
      "text/html": [
       "<html><script type=\"math/tex; mode=display\">\\newcommand{\\Bold}[1]{\\mathbf{#1}}-\\cos\\left(x\\right)^{4} + \\cos\\left(x\\right)^{2} + \\sin\\left(y\\right)^{2}</script></html>"
      ],
      "text/plain": [
       "-cos(x)^4 + cos(x)^2 + sin(y)^2"
      ]
     },
     "metadata": {},
     "output_type": "display_data"
    }
   ],
   "source": [
    "texp2.trig_simplify().show()"
   ]
  },
  {
   "cell_type": "markdown",
   "metadata": {},
   "source": [
    "## Logarithms, rational functions and radicals"
   ]
  },
  {
   "cell_type": "code",
   "execution_count": 28,
   "metadata": {},
   "outputs": [
    {
     "data": {
      "text/html": [
       "<html><script type=\"math/tex; mode=display\">\\newcommand{\\Bold}[1]{\\mathbf{#1}}\\log\\left(\\frac{x^{2} \\sin\\left(x\\right)}{\\sqrt{x + 1}}\\right)</script></html>"
      ],
      "text/plain": [
       "log(x^2*sin(x)/sqrt(x + 1))"
      ]
     },
     "metadata": {},
     "output_type": "display_data"
    }
   ],
   "source": [
    "gexp1 = log(x^2*sin(x)/sqrt(1+x))\n",
    "gexp1.show()"
   ]
  },
  {
   "cell_type": "code",
   "execution_count": 29,
   "metadata": {},
   "outputs": [
    {
     "data": {
      "text/html": [
       "<html><script type=\"math/tex; mode=display\">\\newcommand{\\Bold}[1]{\\mathbf{#1}}-\\frac{1}{2} \\, \\log\\left(x + 1\\right) + 2 \\, \\log\\left(x\\right) + \\log\\left(\\sin\\left(x\\right)\\right)</script></html>"
      ],
      "text/plain": [
       "-1/2*log(x + 1) + 2*log(x) + log(sin(x))"
      ]
     },
     "metadata": {},
     "output_type": "display_data"
    }
   ],
   "source": [
    "gexp2 = gexp1.expand_log()\n",
    "gexp2.show()"
   ]
  },
  {
   "cell_type": "code",
   "execution_count": 30,
   "metadata": {},
   "outputs": [
    {
     "data": {
      "text/html": [
       "<html><script type=\"math/tex; mode=display\">\\newcommand{\\Bold}[1]{\\mathbf{#1}}\\log\\left(x^{2} \\sin\\left(x\\right)\\right) - \\frac{1}{2} \\, \\log\\left(x + 1\\right)</script></html>"
      ],
      "text/plain": [
       "log(x^2*sin(x)) - 1/2*log(x + 1)"
      ]
     },
     "metadata": {},
     "output_type": "display_data"
    }
   ],
   "source": [
    "gexp3=gexp2.simplify_log()\n",
    "gexp3.show()"
   ]
  },
  {
   "cell_type": "markdown",
   "metadata": {},
   "source": [
    "## Rational functions"
   ]
  },
  {
   "cell_type": "code",
   "execution_count": 31,
   "metadata": {},
   "outputs": [
    {
     "data": {
      "text/html": [
       "<html><script type=\"math/tex; mode=display\">\\newcommand{\\Bold}[1]{\\mathbf{#1}}\\frac{x + 1}{x^{2} + x}</script></html>"
      ],
      "text/plain": [
       "(x + 1)/(x^2 + x)"
      ]
     },
     "metadata": {},
     "output_type": "display_data"
    }
   ],
   "source": [
    "gexp4 = (1+x)/(x+x^2)\n",
    "gexp4.show()"
   ]
  },
  {
   "cell_type": "code",
   "execution_count": 32,
   "metadata": {},
   "outputs": [
    {
     "data": {
      "text/html": [
       "<html><script type=\"math/tex; mode=display\">\\newcommand{\\Bold}[1]{\\mathbf{#1}}\\frac{1}{x}</script></html>"
      ],
      "text/plain": [
       "1/x"
      ]
     },
     "metadata": {},
     "output_type": "display_data"
    }
   ],
   "source": [
    "gexp5 = gexp4.simplify_rational()\n",
    "gexp5.show()"
   ]
  },
  {
   "cell_type": "markdown",
   "metadata": {},
   "source": [
    "## Radicals"
   ]
  },
  {
   "cell_type": "code",
   "execution_count": 33,
   "metadata": {},
   "outputs": [
    {
     "data": {
      "text/html": [
       "<html><script type=\"math/tex; mode=display\">\\newcommand{\\Bold}[1]{\\mathbf{#1}}\\frac{\\sqrt{x^{2} + x}}{\\sqrt{x}}</script></html>"
      ],
      "text/plain": [
       "sqrt(x^2 + x)/sqrt(x)"
      ]
     },
     "metadata": {},
     "output_type": "display_data"
    }
   ],
   "source": [
    "gexp6 = sqrt(x^2+x)/sqrt(x)\n",
    "gexp6.show()"
   ]
  },
  {
   "cell_type": "code",
   "execution_count": 34,
   "metadata": {},
   "outputs": [
    {
     "data": {
      "text/html": [
       "<html><script type=\"math/tex; mode=display\">\\newcommand{\\Bold}[1]{\\mathbf{#1}}\\sqrt{x + 1}</script></html>"
      ],
      "text/plain": [
       "sqrt(x + 1)"
      ]
     },
     "metadata": {},
     "output_type": "display_data"
    }
   ],
   "source": [
    "gexp7 = gexp6.canonicalize_radical()\n",
    "gexp7.show()"
   ]
  }
 ],
 "metadata": {
  "kernelspec": {
   "display_name": "SageMath 8.2",
   "language": "",
   "name": "sagemath"
  },
  "language_info": {
   "codemirror_mode": {
    "name": "ipython",
    "version": 2
   },
   "file_extension": ".py",
   "mimetype": "text/x-python",
   "name": "python",
   "nbconvert_exporter": "python",
   "pygments_lexer": "ipython2",
   "version": "2.7.14"
  }
 },
 "nbformat": 4,
 "nbformat_minor": 2
}
