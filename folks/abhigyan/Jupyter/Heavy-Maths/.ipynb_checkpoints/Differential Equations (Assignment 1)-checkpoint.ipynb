{
 "cells": [
  {
   "cell_type": "markdown",
   "metadata": {},
   "source": [
    "# MA2020 Differential Equations\n",
    "##### Second Year Course"
   ]
  },
  {
   "cell_type": "code",
   "execution_count": 1,
   "metadata": {},
   "outputs": [
    {
     "data": {
      "text/plain": [
       "x"
      ]
     },
     "execution_count": 1,
     "metadata": {},
     "output_type": "execute_result"
    }
   ],
   "source": [
    "var('x')"
   ]
  },
  {
   "cell_type": "code",
   "execution_count": 2,
   "metadata": {},
   "outputs": [],
   "source": [
    "y = function('y')(x)"
   ]
  },
  {
   "cell_type": "code",
   "execution_count": 3,
   "metadata": {},
   "outputs": [],
   "source": [
    "eqn1 = x*diff(y,x) +y == x^3*y^6"
   ]
  },
  {
   "cell_type": "code",
   "execution_count": 4,
   "metadata": {},
   "outputs": [
    {
     "data": {
      "text/html": [
       "<html><script type=\"math/tex; mode=display\">\\newcommand{\\Bold}[1]{\\mathbf{#1}}\\frac{1}{{\\left(C + \\frac{5}{2 \\, x^{2}}\\right)}^{\\frac{1}{5}} x}</script></html>"
      ],
      "text/plain": [
       "1/((_C + 5/2/x^2)^(1/5)*x)"
      ]
     },
     "metadata": {},
     "output_type": "display_data"
    }
   ],
   "source": [
    "desolve(eqn1,y).show()"
   ]
  },
  {
   "cell_type": "code",
   "execution_count": 5,
   "metadata": {},
   "outputs": [],
   "source": [
    "eqn2 = x*diff(y,x) +y == y^2*log(x)"
   ]
  },
  {
   "cell_type": "code",
   "execution_count": 6,
   "metadata": {},
   "outputs": [
    {
     "data": {
      "text/html": [
       "<html><script type=\"math/tex; mode=display\">\\newcommand{\\Bold}[1]{\\mathbf{#1}}\\frac{1}{{\\left(C + \\frac{\\log\\left(x\\right)}{x} + \\frac{1}{x}\\right)} x}</script></html>"
      ],
      "text/plain": [
       "1/((_C + log(x)/x + 1/x)*x)"
      ]
     },
     "metadata": {},
     "output_type": "display_data"
    }
   ],
   "source": [
    "desolve(eqn2,y).show()"
   ]
  },
  {
   "cell_type": "code",
   "execution_count": 7,
   "metadata": {},
   "outputs": [],
   "source": [
    "eqn3 = ((y^2)*(x^3) + x*y) == diff(y,x)"
   ]
  },
  {
   "cell_type": "code",
   "execution_count": 8,
   "metadata": {},
   "outputs": [
    {
     "data": {
      "text/html": [
       "<html><script type=\"math/tex; mode=display\">\\newcommand{\\Bold}[1]{\\mathbf{#1}}-\\frac{e^{\\left(\\frac{1}{2} \\, x^{2}\\right)}}{{\\left(x^{2} - 2\\right)} e^{\\left(\\frac{1}{2} \\, x^{2}\\right)} - C}</script></html>"
      ],
      "text/plain": [
       "-e^(1/2*x^2)/((x^2 - 2)*e^(1/2*x^2) - _C)"
      ]
     },
     "metadata": {},
     "output_type": "display_data"
    }
   ],
   "source": [
    "desolve(eqn3,y).show()"
   ]
  },
  {
   "cell_type": "code",
   "execution_count": 13,
   "metadata": {},
   "outputs": [],
   "source": [
    "eqn4 = diff(y,x)+(2*x*atan(y)-x^3)(1+y^2)==0"
   ]
  },
  {
   "cell_type": "code",
   "execution_count": 16,
   "metadata": {},
   "outputs": [],
   "source": [
    "exp = desolve(eqn4,y)"
   ]
  },
  {
   "cell_type": "code",
   "execution_count": 17,
   "metadata": {},
   "outputs": [
    {
     "data": {
      "text/html": [
       "<html><script type=\"math/tex; mode=display\">\\newcommand{\\Bold}[1]{\\mathbf{#1}}-\\int -\\frac{1}{y\\left(x\\right)^{6} + 3 \\, y\\left(x\\right)^{4} - 2 \\, {\\left(y\\left(x\\right)^{2} + 1\\right)} \\arctan\\left(y\\left(y\\left(x\\right)^{2} + 1\\right)\\right) + 3 \\, y\\left(x\\right)^{2} + 1}\\,{d \\left(y\\left(x\\right)\\right)} = C + x</script></html>"
      ],
      "text/plain": [
       "-integrate(-1/(y(x)^6 + 3*y(x)^4 - 2*(y(x)^2 + 1)*arctan(y(y(x)^2 + 1)) + 3*y(x)^2 + 1), y(x)) == _C + x"
      ]
     },
     "metadata": {},
     "output_type": "display_data"
    }
   ],
   "source": [
    "exp.show()"
   ]
  },
  {
   "cell_type": "code",
   "execution_count": null,
   "metadata": {},
   "outputs": [],
   "source": [
    "eqn5 = desolve()"
   ]
  }
 ],
 "metadata": {
  "kernelspec": {
   "display_name": "SageMath 8.8",
   "language": "sage",
   "name": "sagemath"
  },
  "language_info": {
   "codemirror_mode": {
    "name": "ipython",
    "version": 3
   },
   "file_extension": ".py",
   "mimetype": "text/x-python",
   "name": "python",
   "nbconvert_exporter": "python",
   "pygments_lexer": "ipython3",
   "version": "3.7.3"
  }
 },
 "nbformat": 4,
 "nbformat_minor": 2
}
