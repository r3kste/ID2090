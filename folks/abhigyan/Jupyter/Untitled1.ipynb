{
 "cells": [
  {
   "cell_type": "code",
   "execution_count": null,
   "metadata": {},
   "outputs": [],
   "source": [
    "p2 = polygon([0,0])\n",
    "def serpinski(x1,y1,x2,y2,x3,y3,count,l):\n",
    "    x4 = (x1+x2)/2\n",
    "    x5 = (x2+x3)/2\n",
    "    x6 = (x3+x1)/2\n",
    "    y4 = (y1+y2)/2\n",
    "    y5 = (y2+y3)/2\n",
    "    y6 = (y3+y1)/2\n",
    "    p1 = polygon([(x4,y4),(x5,y5),(x6,y6)],color='green')\n",
    "    l = l+p1\n",
    "    count+=1\n",
    "    if count<=3:\n",
    "        l+=serpinski(x1,y1,x4,y4,x6,y6,count,l)\n",
    "        l+=serpinski(x2,y2,x4,y4,x5,y5,count,l)\n",
    "        l+=serpinski(x3,y3,x5,y5,x6,y6,count,l)\n",
    "    return l\n",
    "p = polygon([0,0])"
   ]
  }
 ],
 "metadata": {
  "kernelspec": {
   "display_name": "SageMath 8.8",
   "language": "sage",
   "name": "sagemath"
  },
  "language_info": {
   "codemirror_mode": {
    "name": "ipython",
    "version": 3
   },
   "file_extension": ".py",
   "mimetype": "text/x-python",
   "name": "python",
   "nbconvert_exporter": "python",
   "pygments_lexer": "ipython3",
   "version": "3.7.3"
  }
 },
 "nbformat": 4,
 "nbformat_minor": 2
}
