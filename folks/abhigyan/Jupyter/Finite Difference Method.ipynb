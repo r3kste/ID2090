{
 "cells": [
  {
   "cell_type": "markdown",
   "metadata": {},
   "source": [
    "# Finite Difference Method\n",
    "\n",
    "We have a function that can be of any form, we are trying to find its derivative without finding any formula for calculating the derivative.\n",
    "\n",
    "We use the second degree Taylor's polynomial to evaluate the function's derivatives.\n",
    "\n",
    "\n",
    "$$\\frac{f_{i+1}-f_i}{\\Delta x} \\approx \\frac{\\partial f}{\\partial x}$$ (forward difference method)\n",
    "\n",
    "$$\\frac{f_{i}-f_{i-1}}{\\Delta x} \\approx \\frac{\\partial f}{\\partial x}$$ (backward difference method)\n",
    "\n",
    "But, these methods are quite error-prone. Instead, we use the following approximation to make the approximation more exact:\n",
    "\n",
    "$$\\frac{f_{i+1}-f_{i-1}}{2 \\Delta x} \\approx \\frac{\\partial f}{\\partial x}$$ (central difference method)\n",
    "\n",
    "\n",
    "Format of the data:\n",
    "\n",
    "| # | x | f |\n",
    "| --- | --- | --- |\n",
    "| (i) | 0.1 | 3 |\n",
    "| (ii) | 0.5 | 13 |\n",
    "| (iii) | 0.8 | 28 |\n",
    "| ... | ... | ... |\n",
    "\n",
    "\n",
    "Now, assuming we are using the central difference method, we need to figure out a $\\Delta x$. For each point, we need to find the difference between the x at the next point and at the previous point to get our $2 \\Delta x$, except for the first and the last points, for which $\\Delta x$ is not defined.\n",
    "\n",
    "Now, we just need an algorithm to calculate the divergence.\n",
    "\n",
    "Divergence is given by:\n",
    "\n",
    "$$\\nabla \\cdot \\mathbf{f} = \\frac{\\partial f_x}{\\partial x} + \\frac{\\partial f_y}{\\partial y} + \\frac{\\partial f_z}{\\partial z}$$"
   ]
  }
 ],
 "metadata": {
  "kernelspec": {
   "display_name": "Python 3",
   "language": "python",
   "name": "python3"
  },
  "language_info": {
   "codemirror_mode": {
    "name": "ipython",
    "version": 3
   },
   "file_extension": ".py",
   "mimetype": "text/x-python",
   "name": "python",
   "nbconvert_exporter": "python",
   "pygments_lexer": "ipython3",
   "version": "3.7.3"
  }
 },
 "nbformat": 4,
 "nbformat_minor": 2
}
