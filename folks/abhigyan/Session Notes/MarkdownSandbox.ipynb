{
 "cells": [
  {
   "cell_type": "markdown",
   "metadata": {},
   "source": [
    "# Heading level 1\n",
    "## Heading level 2\n",
    "### Heading level 3\n",
    "#### Heading level 4\n",
    "##### Heading level 5\n",
    "###### Heading level 6\n",
    "\n",
    "**bold text**\n",
    "*italic text*\n",
    "***bold italic***\n",
    "\n",
    ">block quote text\n",
    ">\n",
    ">in multiple paragraphs\n",
    "\n",
    "\n",
    "1. Item 1\n",
    "2. Item 2\n",
    "3. Item 3\n",
    "\n",
    "- First item\n",
    "- Second item\n",
    "- Third item\n",
    "\n",
    "![text](path to image)\n",
    "[link text] (https://mme.iitm.ac.in/gphani/)\n",
    "\n",
    "\n",
    "***\n",
    "\n",
    "for horizontal rule\n",
    "\n",
    "--- \n",
    "\n",
    "for dashed line\n",
    "\n",
    "___ \n",
    "\n",
    "for a line\n"
   ]
  },
  {
   "cell_type": "code",
   "execution_count": null,
   "metadata": {},
   "outputs": [],
   "source": []
  }
 ],
 "metadata": {
  "kernelspec": {
   "display_name": "Python 2",
   "language": "python",
   "name": "python2"
  },
  "language_info": {
   "codemirror_mode": {
    "name": "ipython",
    "version": 2
   },
   "file_extension": ".py",
   "mimetype": "text/x-python",
   "name": "python",
   "nbconvert_exporter": "python",
   "pygments_lexer": "ipython2",
   "version": "2.7.15+"
  }
 },
 "nbformat": 4,
 "nbformat_minor": 2
}
