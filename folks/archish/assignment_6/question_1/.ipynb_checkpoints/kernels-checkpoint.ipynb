{
 "cells": [
  {
   "cell_type": "code",
   "execution_count": 16,
   "id": "f1b45a69",
   "metadata": {},
   "outputs": [],
   "source": [
    "img = imread(\"2.JPG\");\n",
    "imshow(img)"
   ]
  },
  {
   "cell_type": "code",
   "execution_count": 17,
   "id": "129649eb",
   "metadata": {},
   "outputs": [],
   "source": [
    "hsv_img = rgb2hsv(img);"
   ]
  },
  {
   "cell_type": "code",
   "execution_count": 14,
   "id": "eeab35e3",
   "metadata": {},
   "outputs": [],
   "source": [
    "brighten = 1;"
   ]
  },
  {
   "cell_type": "code",
   "execution_count": null,
   "id": "62441f3a",
   "metadata": {},
   "outputs": [],
   "source": [
    "S = conv2(T, kernal1, \"same\")"
   ]
  }
 ],
 "metadata": {
  "kernelspec": {
   "display_name": "Octave",
   "language": "octave",
   "name": "octave"
  },
  "language_info": {
   "file_extension": ".m",
   "help_links": [
    {
     "text": "GNU Octave",
     "url": "https://www.gnu.org/software/octave/support.html"
    },
    {
     "text": "Octave Kernel",
     "url": "https://github.com/Calysto/octave_kernel"
    },
    {
     "text": "MetaKernel Magics",
     "url": "https://metakernel.readthedocs.io/en/latest/source/README.html"
    }
   ],
   "mimetype": "text/x-octave",
   "name": "octave",
   "version": "6.2.0"
  }
 },
 "nbformat": 4,
 "nbformat_minor": 5
}
